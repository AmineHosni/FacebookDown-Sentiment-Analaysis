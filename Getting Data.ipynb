{
 "cells": [
  {
   "cell_type": "code",
   "execution_count": 1,
   "metadata": {},
   "outputs": [],
   "source": [
    "import json\n",
    "import csv\n",
    "import tweepy\n",
    "import re"
   ]
  },
  {
   "cell_type": "code",
   "execution_count": 2,
   "metadata": {},
   "outputs": [],
   "source": [
    "# load Twitter API credentials\n",
    "\n",
    "with open('twitter_credentials.json') as cred_data:\n",
    "    info = json.load(cred_data)\n",
    "    consumer_key = info['CONSUMER_KEY']\n",
    "    consumer_secret = info['CONSUMER_SECRET']\n",
    "    access_key = info['ACCESS_KEY']\n",
    "    access_secret = info['ACCESS_SECRET']"
   ]
  },
  {
   "cell_type": "code",
   "execution_count": 3,
   "metadata": {},
   "outputs": [],
   "source": [
    "auth = tweepy.OAuthHandler(consumer_key, consumer_secret)\n",
    "api = tweepy.API(auth)"
   ]
  },
  {
   "cell_type": "code",
   "execution_count": 4,
   "metadata": {},
   "outputs": [],
   "source": [
    "def search_for_hashtags(hashtag_phrase):\n",
    "    \n",
    "    #get the name of the spreadsheet we will write to\n",
    "    fname = '_'.join(re.findall(r\"#(\\w+)\", hashtag_phrase))\n",
    "\n",
    "    #open the spreadsheet we will write to\n",
    "    with open('%s.csv' % (fname), 'a',encoding='utf-8') as file:\n",
    "\n",
    "        w = csv.writer(file)\n",
    "\n",
    "        #write header row to spreadsheet\n",
    "        w.writerow(['timestamp', 'tweet_text', 'username', 'all_hashtags'])\n",
    "\n",
    "        #for each tweet matching our hashtags, write relevant info to the spreadsheet\n",
    "        for tweet in tweepy.Cursor(api.search, q=hashtag_phrase+' -filter:retweets', \\\n",
    "                                   lang=\"en\", tweet_mode='extended',encodint='utf-8').items(1000):\n",
    "            w.writerow([tweet.created_at, tweet.full_text.replace('\\n',' ').encode('utf-8').decode('utf-8'), tweet.user.screen_name.encode('utf-8').decode('utf-8'), [e['text'] for e in tweet._json['entities']['hashtags']]])"
   ]
  },
  {
   "cell_type": "code",
   "execution_count": 5,
   "metadata": {},
   "outputs": [],
   "source": [
    "hashtag_phrase = '#FacebookDown #instagramdown'"
   ]
  },
  {
   "cell_type": "code",
   "execution_count": 6,
   "metadata": {},
   "outputs": [],
   "source": [
    "search_for_hashtags(hashtag_phrase)"
   ]
  },
  {
   "cell_type": "code",
   "execution_count": null,
   "metadata": {},
   "outputs": [
    {
     "name": "stdout",
     "output_type": "stream",
     "text": [
      "Alert n°1 Gonna wait 15 minutes, Twitter API's time limit reached\n",
      "Alert n°2 Gonna wait 15 minutes, Twitter API's time limit reached\n",
      "Alert n°3 Gonna wait 15 minutes, Twitter API's time limit reached\n",
      "Alert n°4 Gonna wait 15 minutes, Twitter API's time limit reached\n",
      "Alert n°5 Gonna wait 15 minutes, Twitter API's time limit reached\n",
      "Alert n°6 Gonna wait 15 minutes, Twitter API's time limit reached\n",
      "Alert n°7 Gonna wait 15 minutes, Twitter API's time limit reached\n",
      "Alert n°8 Gonna wait 15 minutes, Twitter API's time limit reached\n",
      "Alert n°9 Gonna wait 15 minutes, Twitter API's time limit reached\n",
      "Alert n°10 Gonna wait 15 minutes, Twitter API's time limit reached\n",
      "Alert n°11 Gonna wait 15 minutes, Twitter API's time limit reached\n",
      "Alert n°12 Gonna wait 15 minutes, Twitter API's time limit reached\n",
      "Alert n°13 Gonna wait 15 minutes, Twitter API's time limit reached\n",
      "Alert n°14 Gonna wait 15 minutes, Twitter API's time limit reached\n",
      "Alert n°15 Gonna wait 15 minutes, Twitter API's time limit reached\n",
      "Alert n°16 Gonna wait 15 minutes, Twitter API's time limit reached\n",
      "Alert n°17 Gonna wait 15 minutes, Twitter API's time limit reached\n",
      "Alert n°18 Gonna wait 15 minutes, Twitter API's time limit reached\n",
      "Alert n°19 Gonna wait 15 minutes, Twitter API's time limit reached\n",
      "Alert n°20 Gonna wait 15 minutes, Twitter API's time limit reached\n",
      "Alert n°21 Gonna wait 15 minutes, Twitter API's time limit reached\n",
      "Alert n°22 Gonna wait 15 minutes, Twitter API's time limit reached\n"
     ]
    }
   ],
   "source": [
    "import time\n",
    "i = 1\n",
    "while True:\n",
    "    try:\n",
    "        search_for_hashtags(hashtag_phrase)\n",
    "    except tweepy.TweepError:\n",
    "        print('Alert n°{} Gonna wait 15 minutes, Twitter API\\'s time limit reached'.format(i))\n",
    "        i += 1\n",
    "        time.sleep(60*15)"
   ]
  },
  {
   "cell_type": "code",
   "execution_count": null,
   "metadata": {},
   "outputs": [],
   "source": []
  }
 ],
 "metadata": {
  "kernelspec": {
   "display_name": "Python 3",
   "language": "python",
   "name": "python3"
  },
  "language_info": {
   "codemirror_mode": {
    "name": "ipython",
    "version": 3
   },
   "file_extension": ".py",
   "mimetype": "text/x-python",
   "name": "python",
   "nbconvert_exporter": "python",
   "pygments_lexer": "ipython3",
   "version": "3.7.0"
  }
 },
 "nbformat": 4,
 "nbformat_minor": 2
}
