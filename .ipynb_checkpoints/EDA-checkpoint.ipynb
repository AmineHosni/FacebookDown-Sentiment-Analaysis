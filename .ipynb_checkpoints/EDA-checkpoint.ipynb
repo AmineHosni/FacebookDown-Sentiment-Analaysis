{
 "cells": [
  {
   "cell_type": "code",
   "execution_count": 68,
   "metadata": {},
   "outputs": [],
   "source": [
    "import numpy as np\n",
    "import pandas as pd\n",
    "import matplotlib.pyplot as plt\n",
    "import seaborn as sns\n",
    "%matplotlib inline\n",
    "import warnings\n",
    "warnings.filterwarnings('ignore')"
   ]
  },
  {
   "cell_type": "code",
   "execution_count": 2,
   "metadata": {},
   "outputs": [],
   "source": [
    "tweets = pd.read_csv('clean_unique_tweets.csv')"
   ]
  },
  {
   "cell_type": "code",
   "execution_count": 3,
   "metadata": {
    "scrolled": true
   },
   "outputs": [
    {
     "data": {
      "text/html": [
       "<div>\n",
       "<style scoped>\n",
       "    .dataframe tbody tr th:only-of-type {\n",
       "        vertical-align: middle;\n",
       "    }\n",
       "\n",
       "    .dataframe tbody tr th {\n",
       "        vertical-align: top;\n",
       "    }\n",
       "\n",
       "    .dataframe thead th {\n",
       "        text-align: right;\n",
       "    }\n",
       "</style>\n",
       "<table border=\"1\" class=\"dataframe\">\n",
       "  <thead>\n",
       "    <tr style=\"text-align: right;\">\n",
       "      <th></th>\n",
       "      <th>tweet</th>\n",
       "    </tr>\n",
       "  </thead>\n",
       "  <tbody>\n",
       "    <tr>\n",
       "      <th>0</th>\n",
       "      <td>true true instagram instagramdown facebookdown</td>\n",
       "    </tr>\n",
       "    <tr>\n",
       "      <th>1</th>\n",
       "      <td>how to prepare yourself for social media outage how can you make sure your social media strategy is sustainable check out our guest post on getanewsletter s blog find out how to use social media to collect email subscribers facebookdown instagramdown</td>\n",
       "    </tr>\n",
       "    <tr>\n",
       "      <th>2</th>\n",
       "      <td>when facebookdown facebookoutage instagramblackout instagramdown listening to uptight everything s alright by stevie wonder on</td>\n",
       "    </tr>\n",
       "    <tr>\n",
       "      <th>3</th>\n",
       "      <td>facebookdown and instagramdown make me contemplate life so much teenagers nowadays spend more than hours each day on social network while they can spend that time educating themselves about crypto blockchain and what project can generate like bcnex bigbom zerobank</td>\n",
       "    </tr>\n",
       "    <tr>\n",
       "      <th>4</th>\n",
       "      <td>facebook instagram and whatsapp hit by major outage facebookdown instagramdown whatsappdown worldnews</td>\n",
       "    </tr>\n",
       "  </tbody>\n",
       "</table>\n",
       "</div>"
      ],
      "text/plain": [
       "                                                                                                                                                                                                                                                                      tweet\n",
       "0  true true instagram instagramdown facebookdown                                                                                                                                                                                                                          \n",
       "1  how to prepare yourself for social media outage how can you make sure your social media strategy is sustainable check out our guest post on getanewsletter s blog find out how to use social media to collect email subscribers facebookdown instagramdown              \n",
       "2  when facebookdown facebookoutage instagramblackout instagramdown listening to uptight everything s alright by stevie wonder on                                                                                                                                          \n",
       "3  facebookdown and instagramdown make me contemplate life so much teenagers nowadays spend more than hours each day on social network while they can spend that time educating themselves about crypto blockchain and what project can generate like bcnex bigbom zerobank\n",
       "4  facebook instagram and whatsapp hit by major outage facebookdown instagramdown whatsappdown worldnews                                                                                                                                                                   "
      ]
     },
     "execution_count": 3,
     "metadata": {},
     "output_type": "execute_result"
    }
   ],
   "source": [
    "pd.set_option('display.max_colwidth', -1)\n",
    "tweets.head()"
   ]
  },
  {
   "cell_type": "code",
   "execution_count": 4,
   "metadata": {},
   "outputs": [],
   "source": [
    "from textblob import TextBlob"
   ]
  },
  {
   "cell_type": "code",
   "execution_count": 5,
   "metadata": {},
   "outputs": [
    {
     "data": {
      "text/html": [
       "<div>\n",
       "<style scoped>\n",
       "    .dataframe tbody tr th:only-of-type {\n",
       "        vertical-align: middle;\n",
       "    }\n",
       "\n",
       "    .dataframe tbody tr th {\n",
       "        vertical-align: top;\n",
       "    }\n",
       "\n",
       "    .dataframe thead th {\n",
       "        text-align: right;\n",
       "    }\n",
       "</style>\n",
       "<table border=\"1\" class=\"dataframe\">\n",
       "  <thead>\n",
       "    <tr style=\"text-align: right;\">\n",
       "      <th></th>\n",
       "      <th>tweet</th>\n",
       "      <th>sentiment</th>\n",
       "    </tr>\n",
       "  </thead>\n",
       "  <tbody>\n",
       "    <tr>\n",
       "      <th>0</th>\n",
       "      <td>true true instagram instagramdown facebookdown</td>\n",
       "      <td>0.350000</td>\n",
       "    </tr>\n",
       "    <tr>\n",
       "      <th>1</th>\n",
       "      <td>how to prepare yourself for social media outage how can you make sure your social media strategy is sustainable check out our guest post on getanewsletter s blog find out how to use social media to collect email subscribers facebookdown instagramdown</td>\n",
       "      <td>0.150000</td>\n",
       "    </tr>\n",
       "    <tr>\n",
       "      <th>2</th>\n",
       "      <td>when facebookdown facebookoutage instagramblackout instagramdown listening to uptight everything s alright by stevie wonder on</td>\n",
       "      <td>0.000000</td>\n",
       "    </tr>\n",
       "    <tr>\n",
       "      <th>3</th>\n",
       "      <td>facebookdown and instagramdown make me contemplate life so much teenagers nowadays spend more than hours each day on social network while they can spend that time educating themselves about crypto blockchain and what project can generate like bcnex bigbom zerobank</td>\n",
       "      <td>0.244444</td>\n",
       "    </tr>\n",
       "    <tr>\n",
       "      <th>4</th>\n",
       "      <td>facebook instagram and whatsapp hit by major outage facebookdown instagramdown whatsappdown worldnews</td>\n",
       "      <td>0.062500</td>\n",
       "    </tr>\n",
       "  </tbody>\n",
       "</table>\n",
       "</div>"
      ],
      "text/plain": [
       "                                                                                                                                                                                                                                                                      tweet  \\\n",
       "0  true true instagram instagramdown facebookdown                                                                                                                                                                                                                             \n",
       "1  how to prepare yourself for social media outage how can you make sure your social media strategy is sustainable check out our guest post on getanewsletter s blog find out how to use social media to collect email subscribers facebookdown instagramdown                 \n",
       "2  when facebookdown facebookoutage instagramblackout instagramdown listening to uptight everything s alright by stevie wonder on                                                                                                                                             \n",
       "3  facebookdown and instagramdown make me contemplate life so much teenagers nowadays spend more than hours each day on social network while they can spend that time educating themselves about crypto blockchain and what project can generate like bcnex bigbom zerobank   \n",
       "4  facebook instagram and whatsapp hit by major outage facebookdown instagramdown whatsappdown worldnews                                                                                                                                                                      \n",
       "\n",
       "   sentiment  \n",
       "0  0.350000   \n",
       "1  0.150000   \n",
       "2  0.000000   \n",
       "3  0.244444   \n",
       "4  0.062500   "
      ]
     },
     "execution_count": 5,
     "metadata": {},
     "output_type": "execute_result"
    }
   ],
   "source": [
    "tweets['sentiment'] = tweets['tweet'].apply(lambda x: TextBlob(x).sentiment[0] )\n",
    "tweets.head()"
   ]
  },
  {
   "cell_type": "code",
   "execution_count": 6,
   "metadata": {},
   "outputs": [
    {
     "name": "stdout",
     "output_type": "stream",
     "text": [
      "37.10 % Positive tweets\n"
     ]
    }
   ],
   "source": [
    "print('{0:.2f} % Positive tweets'.format(len(tweets[tweets['sentiment']>0]['tweet'])/(len(tweets))*100))"
   ]
  },
  {
   "cell_type": "code",
   "execution_count": 7,
   "metadata": {},
   "outputs": [
    {
     "name": "stdout",
     "output_type": "stream",
     "text": [
      "26.22 % Negative tweets\n"
     ]
    }
   ],
   "source": [
    "print('{0:.2f} % Negative tweets'.format(len(tweets[tweets['sentiment']<0]['tweet'])/(len(tweets))*100))"
   ]
  },
  {
   "cell_type": "code",
   "execution_count": 8,
   "metadata": {},
   "outputs": [
    {
     "name": "stdout",
     "output_type": "stream",
     "text": [
      "36.68 % Neutral tweets\n"
     ]
    }
   ],
   "source": [
    "print('{0:.2f} % Neutral tweets'.format(len(tweets[tweets['sentiment']==0]['tweet'])/(len(tweets))*100))"
   ]
  },
  {
   "cell_type": "markdown",
   "metadata": {},
   "source": [
    "# Some of the most positive tweets"
   ]
  },
  {
   "cell_type": "code",
   "execution_count": 12,
   "metadata": {
    "scrolled": true
   },
   "outputs": [
    {
     "data": {
      "text/html": [
       "<div>\n",
       "<style scoped>\n",
       "    .dataframe tbody tr th:only-of-type {\n",
       "        vertical-align: middle;\n",
       "    }\n",
       "\n",
       "    .dataframe tbody tr th {\n",
       "        vertical-align: top;\n",
       "    }\n",
       "\n",
       "    .dataframe thead th {\n",
       "        text-align: right;\n",
       "    }\n",
       "</style>\n",
       "<table border=\"1\" class=\"dataframe\">\n",
       "  <thead>\n",
       "    <tr style=\"text-align: right;\">\n",
       "      <th></th>\n",
       "      <th>tweet</th>\n",
       "      <th>sentiment</th>\n",
       "    </tr>\n",
       "  </thead>\n",
       "  <tbody>\n",
       "    <tr>\n",
       "      <th>56</th>\n",
       "      <td>pastors everywhere realizing facebookdown and instagramdown will be added to their sunday sermons as a perfect illustration on idolatry</td>\n",
       "      <td>1.0</td>\n",
       "    </tr>\n",
       "    <tr>\n",
       "      <th>163</th>\n",
       "      <td>nick clegg is the best evidence of someone lying on their cv to get a job instagramdown instagramblackout facebookdown facebookoutage</td>\n",
       "      <td>1.0</td>\n",
       "    </tr>\n",
       "    <tr>\n",
       "      <th>250</th>\n",
       "      <td>congrats to twitter and myspace having the best day ever yesterday facebookdown instagramdown</td>\n",
       "      <td>1.0</td>\n",
       "    </tr>\n",
       "    <tr>\n",
       "      <th>634</th>\n",
       "      <td>unsignedmusic musicians instagramdown facebookdown newmusicalert if you could use some guaranteed exposure on on jjkaneallnewmusicshow showcasing the best artists newrelease click link to be on radio rotation kane fm myshow</td>\n",
       "      <td>1.0</td>\n",
       "    </tr>\n",
       "    <tr>\n",
       "      <th>736</th>\n",
       "      <td>reality instagramdown instadown instagram instagramisdown instagramnotworking instagramblackout instagramoutage instagramdown facebookdown instamodel instagood instaseleb instastories instastory awesome and feelinggood being around when it happened</td>\n",
       "      <td>1.0</td>\n",
       "    </tr>\n",
       "  </tbody>\n",
       "</table>\n",
       "</div>"
      ],
      "text/plain": [
       "                                                                                                                                                                                                                                                        tweet  \\\n",
       "56   pastors everywhere realizing facebookdown and instagramdown will be added to their sunday sermons as a perfect illustration on idolatry                                                                                                                    \n",
       "163  nick clegg is the best evidence of someone lying on their cv to get a job instagramdown instagramblackout facebookdown facebookoutage                                                                                                                      \n",
       "250  congrats to twitter and myspace having the best day ever yesterday facebookdown instagramdown                                                                                                                                                              \n",
       "634  unsignedmusic musicians instagramdown facebookdown newmusicalert if you could use some guaranteed exposure on on jjkaneallnewmusicshow showcasing the best artists newrelease click link to be on radio rotation kane fm myshow                            \n",
       "736  reality instagramdown instadown instagram instagramisdown instagramnotworking instagramblackout instagramoutage instagramdown facebookdown instamodel instagood instaseleb instastories instastory awesome and feelinggood being around when it happened   \n",
       "\n",
       "     sentiment  \n",
       "56   1.0        \n",
       "163  1.0        \n",
       "250  1.0        \n",
       "634  1.0        \n",
       "736  1.0        "
      ]
     },
     "execution_count": 12,
     "metadata": {},
     "output_type": "execute_result"
    }
   ],
   "source": [
    "tweets[tweets['sentiment']==tweets['sentiment'].max()].head()"
   ]
  },
  {
   "cell_type": "markdown",
   "metadata": {},
   "source": [
    "# Some of the most negative tweets"
   ]
  },
  {
   "cell_type": "code",
   "execution_count": 13,
   "metadata": {},
   "outputs": [
    {
     "data": {
      "text/html": [
       "<div>\n",
       "<style scoped>\n",
       "    .dataframe tbody tr th:only-of-type {\n",
       "        vertical-align: middle;\n",
       "    }\n",
       "\n",
       "    .dataframe tbody tr th {\n",
       "        vertical-align: top;\n",
       "    }\n",
       "\n",
       "    .dataframe thead th {\n",
       "        text-align: right;\n",
       "    }\n",
       "</style>\n",
       "<table border=\"1\" class=\"dataframe\">\n",
       "  <thead>\n",
       "    <tr style=\"text-align: right;\">\n",
       "      <th></th>\n",
       "      <th>tweet</th>\n",
       "      <th>sentiment</th>\n",
       "    </tr>\n",
       "  </thead>\n",
       "  <tbody>\n",
       "    <tr>\n",
       "      <th>370</th>\n",
       "      <td>worst intros via daemonxmachina instagramdown facebookdown rrrpressmeet bombcyclone instagramnotworking mar affordablehomes badgertough</td>\n",
       "      <td>-1.0</td>\n",
       "    </tr>\n",
       "    <tr>\n",
       "      <th>428</th>\n",
       "      <td>worst service provider d h ramcharan rrrmovie facebookdown instagramdown rrrpressmeet aamirkhan ajaydevgan ajaydevgn aliabhatt</td>\n",
       "      <td>-1.0</td>\n",
       "    </tr>\n",
       "    <tr>\n",
       "      <th>621</th>\n",
       "      <td>billions of people around the world have been affected by the worst outage in facebook s history facebookdown instagramdown news</td>\n",
       "      <td>-1.0</td>\n",
       "    </tr>\n",
       "    <tr>\n",
       "      <th>910</th>\n",
       "      <td>facebook and its family of apps suffered the worst outage in years facebookdown facebookoutage instagramdown whatsappdown</td>\n",
       "      <td>-1.0</td>\n",
       "    </tr>\n",
       "    <tr>\n",
       "      <th>1010</th>\n",
       "      <td>mark zuckerberg owned facebook whatsapp and instagram s suffer worst outage ever facebookdown instagramdown whatsappdown</td>\n",
       "      <td>-1.0</td>\n",
       "    </tr>\n",
       "  </tbody>\n",
       "</table>\n",
       "</div>"
      ],
      "text/plain": [
       "                                                                                                                                        tweet  \\\n",
       "370   worst intros via daemonxmachina instagramdown facebookdown rrrpressmeet bombcyclone instagramnotworking mar affordablehomes badgertough   \n",
       "428   worst service provider d h ramcharan rrrmovie facebookdown instagramdown rrrpressmeet aamirkhan ajaydevgan ajaydevgn aliabhatt            \n",
       "621   billions of people around the world have been affected by the worst outage in facebook s history facebookdown instagramdown news          \n",
       "910   facebook and its family of apps suffered the worst outage in years facebookdown facebookoutage instagramdown whatsappdown                 \n",
       "1010  mark zuckerberg owned facebook whatsapp and instagram s suffer worst outage ever facebookdown instagramdown whatsappdown                  \n",
       "\n",
       "      sentiment  \n",
       "370  -1.0        \n",
       "428  -1.0        \n",
       "621  -1.0        \n",
       "910  -1.0        \n",
       "1010 -1.0        "
      ]
     },
     "execution_count": 13,
     "metadata": {},
     "output_type": "execute_result"
    }
   ],
   "source": [
    "tweets[tweets['sentiment']==tweets['sentiment'].min()].head()"
   ]
  },
  {
   "cell_type": "markdown",
   "metadata": {},
   "source": [
    "# Distribution of tweets' sentiments"
   ]
  },
  {
   "cell_type": "code",
   "execution_count": 31,
   "metadata": {},
   "outputs": [],
   "source": [
    "bin = [-1,-0.5,-0.1,0.1,0.5,1]\n",
    "#use pd.cut function can attribute the values into its specific bins\n",
    "category = pd.cut(tweets['sentiment'],bin)\n",
    "category = category.to_frame()\n",
    "category.columns = ['range']\n",
    "#concatenate age and its bin\n",
    "df_new = pd.concat([tweets['sentiment'],category],axis = 1)"
   ]
  },
  {
   "cell_type": "code",
   "execution_count": 32,
   "metadata": {},
   "outputs": [
    {
     "data": {
      "text/plain": [
       "<matplotlib.axes._subplots.AxesSubplot at 0x278a3b1d208>"
      ]
     },
     "execution_count": 32,
     "metadata": {},
     "output_type": "execute_result"
    },
    {
     "data": {
      "image/png": "[encoded data removed]",
      "text/plain": [
       "<Figure size 432x288 with 1 Axes>"
      ]
     },
     "metadata": {},
     "output_type": "display_data"
    }
   ],
   "source": [
    "sns.set(style=\"white\")\n",
    "sns.set(style=\"whitegrid\", color_codes=True)\n",
    " \n",
    "#draw histogram plot\n",
    "sns.countplot(x = 'range', data = df_new, palette = 'hls')"
   ]
  },
  {
   "cell_type": "markdown",
   "metadata": {},
   "source": [
    "#### People strangely seem to be having much of a positive attitude toward the Facebook and Instagram being down"
   ]
  },
  {
   "cell_type": "code",
   "execution_count": 35,
   "metadata": {},
   "outputs": [],
   "source": [
    "tweets_time = pd.read_csv('clean_tweets.csv',index_col=0)"
   ]
  },
  {
   "cell_type": "code",
   "execution_count": 37,
   "metadata": {},
   "outputs": [
    {
     "data": {
      "text/html": [
       "<div>\n",
       "<style scoped>\n",
       "    .dataframe tbody tr th:only-of-type {\n",
       "        vertical-align: middle;\n",
       "    }\n",
       "\n",
       "    .dataframe tbody tr th {\n",
       "        vertical-align: top;\n",
       "    }\n",
       "\n",
       "    .dataframe thead th {\n",
       "        text-align: right;\n",
       "    }\n",
       "</style>\n",
       "<table border=\"1\" class=\"dataframe\">\n",
       "  <thead>\n",
       "    <tr style=\"text-align: right;\">\n",
       "      <th></th>\n",
       "      <th>timestamp</th>\n",
       "      <th>tweet_text</th>\n",
       "      <th>username</th>\n",
       "      <th>all_hashtags</th>\n",
       "    </tr>\n",
       "  </thead>\n",
       "  <tbody>\n",
       "    <tr>\n",
       "      <th>0</th>\n",
       "      <td>2019-03-14 16:27:07</td>\n",
       "      <td>true true instagram instagramdown facebookdown</td>\n",
       "      <td>bklyn_hayshun</td>\n",
       "      <td>['Instagram', 'Instagramdown', 'Facebookdown']</td>\n",
       "    </tr>\n",
       "  </tbody>\n",
       "</table>\n",
       "</div>"
      ],
      "text/plain": [
       "             timestamp                                      tweet_text  \\\n",
       "0  2019-03-14 16:27:07  true true instagram instagramdown facebookdown   \n",
       "\n",
       "        username                                    all_hashtags  \n",
       "0  bklyn_hayshun  ['Instagram', 'Instagramdown', 'Facebookdown']  "
      ]
     },
     "execution_count": 37,
     "metadata": {},
     "output_type": "execute_result"
    }
   ],
   "source": [
    "tweets_time.head(1)"
   ]
  },
  {
   "cell_type": "code",
   "execution_count": 39,
   "metadata": {},
   "outputs": [
    {
     "data": {
      "text/plain": [
       "timestamp       object\n",
       "tweet_text      object\n",
       "username        object\n",
       "all_hashtags    object\n",
       "dtype: object"
      ]
     },
     "execution_count": 39,
     "metadata": {},
     "output_type": "execute_result"
    }
   ],
   "source": [
    "tweets_time.dtypes"
   ]
  },
  {
   "cell_type": "code",
   "execution_count": 44,
   "metadata": {},
   "outputs": [],
   "source": [
    "dateparse = lambda dates: pd.datetime.strptime(dates, '%Y-%m-%d %H:%M:%S')"
   ]
  },
  {
   "cell_type": "code",
   "execution_count": 51,
   "metadata": {},
   "outputs": [],
   "source": [
    "tweets_time = pd.read_csv('clean_tweets.csv', parse_dates=['timestamp'], index_col='timestamp',date_parser=dateparse)"
   ]
  },
  {
   "cell_type": "code",
   "execution_count": 54,
   "metadata": {},
   "outputs": [
    {
     "data": {
      "text/html": [
       "<div>\n",
       "<style scoped>\n",
       "    .dataframe tbody tr th:only-of-type {\n",
       "        vertical-align: middle;\n",
       "    }\n",
       "\n",
       "    .dataframe tbody tr th {\n",
       "        vertical-align: top;\n",
       "    }\n",
       "\n",
       "    .dataframe thead th {\n",
       "        text-align: right;\n",
       "    }\n",
       "</style>\n",
       "<table border=\"1\" class=\"dataframe\">\n",
       "  <thead>\n",
       "    <tr style=\"text-align: right;\">\n",
       "      <th></th>\n",
       "      <th>Unnamed: 0</th>\n",
       "      <th>tweet_text</th>\n",
       "      <th>username</th>\n",
       "      <th>all_hashtags</th>\n",
       "    </tr>\n",
       "    <tr>\n",
       "      <th>timestamp</th>\n",
       "      <th></th>\n",
       "      <th></th>\n",
       "      <th></th>\n",
       "      <th></th>\n",
       "    </tr>\n",
       "  </thead>\n",
       "  <tbody>\n",
       "    <tr>\n",
       "      <th>2019-03-14 16:27:07</th>\n",
       "      <td>0</td>\n",
       "      <td>true true instagram instagramdown facebookdown</td>\n",
       "      <td>bklyn_hayshun</td>\n",
       "      <td>['Instagram', 'Instagramdown', 'Facebookdown']</td>\n",
       "    </tr>\n",
       "  </tbody>\n",
       "</table>\n",
       "</div>"
      ],
      "text/plain": [
       "                     Unnamed: 0  \\\n",
       "timestamp                         \n",
       "2019-03-14 16:27:07  0            \n",
       "\n",
       "                                                         tweet_text  \\\n",
       "timestamp                                                             \n",
       "2019-03-14 16:27:07  true true instagram instagramdown facebookdown   \n",
       "\n",
       "                          username  \\\n",
       "timestamp                            \n",
       "2019-03-14 16:27:07  bklyn_hayshun   \n",
       "\n",
       "                                                       all_hashtags  \n",
       "timestamp                                                            \n",
       "2019-03-14 16:27:07  ['Instagram', 'Instagramdown', 'Facebookdown']  "
      ]
     },
     "execution_count": 54,
     "metadata": {},
     "output_type": "execute_result"
    }
   ],
   "source": [
    "tweets_time.head(1)"
   ]
  },
  {
   "cell_type": "code",
   "execution_count": 61,
   "metadata": {},
   "outputs": [
    {
     "data": {
      "text/plain": [
       "DatetimeIndex(['2019-03-14 16:27:07', '2019-03-14 16:26:46',\n",
       "               '2019-03-14 16:25:41', '2019-03-14 16:24:50',\n",
       "               '2019-03-14 16:24:01', '2019-03-14 16:23:07',\n",
       "               '2019-03-14 16:22:07', '2019-03-14 16:21:25',\n",
       "               '2019-03-14 16:21:03', '2019-03-14 16:20:23',\n",
       "               ...\n",
       "               '2019-03-14 19:09:30', '2019-03-14 19:05:04',\n",
       "               '2019-03-14 19:00:59', '2019-03-14 19:00:54',\n",
       "               '2019-03-14 19:00:29', '2019-03-14 19:00:17',\n",
       "               '2019-03-14 18:51:03', '2019-03-14 18:44:36',\n",
       "               '2019-03-14 18:42:52', '2019-03-14 18:37:35'],\n",
       "              dtype='datetime64[ns]', name='timestamp', length=446745, freq=None)"
      ]
     },
     "execution_count": 61,
     "metadata": {},
     "output_type": "execute_result"
    }
   ],
   "source": [
    "tweets_time.index"
   ]
  },
  {
   "cell_type": "code",
   "execution_count": 62,
   "metadata": {},
   "outputs": [],
   "source": [
    "tweets_time=tweets_time['username']"
   ]
  },
  {
   "cell_type": "code",
   "execution_count": 63,
   "metadata": {},
   "outputs": [
    {
     "data": {
      "text/plain": [
       "timestamp\n",
       "2019-03-14 16:27:07    bklyn_hayshun\n",
       "2019-03-14 16:26:46    Postfity     \n",
       "2019-03-14 16:25:41    NikeMC       \n",
       "2019-03-14 16:24:50    ftchkn       \n",
       "2019-03-14 16:24:01    DailyMulligan\n",
       "Name: username, dtype: object"
      ]
     },
     "execution_count": 63,
     "metadata": {},
     "output_type": "execute_result"
    }
   ],
   "source": [
    "tweets_time.head()"
   ]
  },
  {
   "cell_type": "code",
   "execution_count": 65,
   "metadata": {},
   "outputs": [],
   "source": [
    "tweets_time.sort_index(inplace=True)"
   ]
  },
  {
   "cell_type": "code",
   "execution_count": 66,
   "metadata": {},
   "outputs": [
    {
     "data": {
      "text/plain": [
       "timestamp\n",
       "2019-03-14 05:32:42    Amazingrenes03\n",
       "2019-03-14 05:32:57    Faith28615108 \n",
       "2019-03-14 05:33:05    ColferetteTS  \n",
       "2019-03-14 05:33:05    ColferetteTS  \n",
       "2019-03-14 05:33:27    bombandbossy  \n",
       "Name: username, dtype: object"
      ]
     },
     "execution_count": 66,
     "metadata": {},
     "output_type": "execute_result"
    }
   ],
   "source": [
    "tweets_time.head()"
   ]
  },
  {
   "cell_type": "code",
   "execution_count": 69,
   "metadata": {},
   "outputs": [
    {
     "data": {
      "text/plain": [
       "[<matplotlib.lines.Line2D at 0x278a5c0bc18>]"
      ]
     },
     "execution_count": 69,
     "metadata": {},
     "output_type": "execute_result"
    },
    {
     "data": {
      "image/png": "[encoded data removed]",
      "text/plain": [
       "<Figure size 432x288 with 1 Axes>"
      ]
     },
     "metadata": {
      "needs_background": "light"
     },
     "output_type": "display_data"
    }
   ],
   "source": [
    "plt.plot(tweets_time)"
   ]
  },
  {
   "cell_type": "code",
   "execution_count": 76,
   "metadata": {},
   "outputs": [],
   "source": [
    "ts = pd.Series(tweets_time.index.values)"
   ]
  },
  {
   "cell_type": "code",
   "execution_count": 73,
   "metadata": {},
   "outputs": [],
   "source": [
    "ts = pd.Series(index=tweets_time.index.values)"
   ]
  },
  {
   "cell_type": "code",
   "execution_count": 79,
   "metadata": {},
   "outputs": [
    {
     "data": {
      "text/plain": [
       "0   2019-03-14 05:32:42\n",
       "1   2019-03-14 05:32:57\n",
       "2   2019-03-14 05:33:05\n",
       "3   2019-03-14 05:33:05\n",
       "4   2019-03-14 05:33:27\n",
       "dtype: datetime64[ns]"
      ]
     },
     "execution_count": 79,
     "metadata": {},
     "output_type": "execute_result"
    }
   ],
   "source": [
    "ts.head()"
   ]
  },
  {
   "cell_type": "code",
   "execution_count": 86,
   "metadata": {
    "scrolled": true
   },
   "outputs": [
    {
     "data": {
      "text/plain": [
       "446744   2019-03-15 15:40:55\n",
       "dtype: datetime64[ns]"
      ]
     },
     "execution_count": 86,
     "metadata": {},
     "output_type": "execute_result"
    }
   ],
   "source": [
    "ts[-1:]"
   ]
  },
  {
   "cell_type": "code",
   "execution_count": 87,
   "metadata": {},
   "outputs": [
    {
     "name": "stdout",
     "output_type": "stream",
     "text": [
      "Repartition of tweets from 2019-03-14 05:32:42 to 446744   2019-03-15 15:40:55\n",
      "dtype: datetime64[ns]\n"
     ]
    }
   ],
   "source": [
    "print('Repartition of tweets from {} to {}'.format(ts[0],ts[-1:]))"
   ]
  },
  {
   "cell_type": "code",
   "execution_count": 91,
   "metadata": {},
   "outputs": [
    {
     "data": {
      "text/plain": [
       "[<matplotlib.lines.Line2D at 0x278a7b719e8>]"
      ]
     },
     "execution_count": 91,
     "metadata": {},
     "output_type": "execute_result"
    },
    {
     "data": {
      "image/png": "[encoded data removed]",
      "text/plain": [
       "<Figure size 720x360 with 1 Axes>"
      ]
     },
     "metadata": {
      "needs_background": "light"
     },
     "output_type": "display_data"
    }
   ],
   "source": [
    "plt.rcParams[\"figure.figsize\"] = [10,5]\n",
    "plt.title('Repartition of tweets from 2019-03-14 05:32:42 to 2019-03-15 15:40:55')\n",
    "plt.plot(ts)"
   ]
  },
  {
   "cell_type": "markdown",
   "metadata": {},
   "source": [
    "### No insights can be extracted from this as I have scraped more latent tweets around 8pm on the 14th of March were I left the script, in the Getting Data file, running all night but it would have been insightful to see how the tweets are spread around in time"
   ]
  }
 ],
 "metadata": {
  "kernelspec": {
   "display_name": "Python 3",
   "language": "python",
   "name": "python3"
  },
  "language_info": {
   "codemirror_mode": {
    "name": "ipython",
    "version": 3
   },
   "file_extension": ".py",
   "mimetype": "text/x-python",
   "name": "python",
   "nbconvert_exporter": "python",
   "pygments_lexer": "ipython3",
   "version": "3.7.0"
  }
 },
 "nbformat": 4,
 "nbformat_minor": 2
}
