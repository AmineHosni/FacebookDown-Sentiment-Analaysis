{
 "cells": [
  {
   "cell_type": "code",
   "execution_count": 10,
   "metadata": {},
   "outputs": [],
   "source": [
    "import numpy as np\n",
    "import pandas as pd\n",
    "import matplotlib as plt\n",
    "import seaborn as sns\n",
    "%matplotlib inline\n",
    "import warnings\n",
    "warnings.filterwarnings('ignore')"
   ]
  },
  {
   "cell_type": "code",
   "execution_count": 11,
   "metadata": {},
   "outputs": [],
   "source": [
    "cols = ['timestamp','tweet_text','username','all_hashtags']"
   ]
  },
  {
   "cell_type": "code",
   "execution_count": 12,
   "metadata": {},
   "outputs": [],
   "source": [
    "df = pd.read_csv(\"FacebookDown_instagramdown.csv\",header=None, names=cols)"
   ]
  },
  {
   "cell_type": "code",
   "execution_count": 13,
   "metadata": {},
   "outputs": [],
   "source": [
    "df = df[df['timestamp']!='timestamp']"
   ]
  },
  {
   "cell_type": "code",
   "execution_count": 14,
   "metadata": {},
   "outputs": [
    {
     "name": "stdout",
     "output_type": "stream",
     "text": [
      "<class 'pandas.core.frame.DataFrame'>\n",
      "Int64Index: 453338 entries, 1 to 453855\n",
      "Data columns (total 4 columns):\n",
      "timestamp       453338 non-null object\n",
      "tweet_text      453338 non-null object\n",
      "username        453338 non-null object\n",
      "all_hashtags    453338 non-null object\n",
      "dtypes: object(4)\n",
      "memory usage: 17.3+ MB\n"
     ]
    }
   ],
   "source": [
    "df.info()"
   ]
  },
  {
   "cell_type": "code",
   "execution_count": 16,
   "metadata": {},
   "outputs": [],
   "source": [
    "tweets = df.copy()"
   ]
  },
  {
   "cell_type": "code",
   "execution_count": 17,
   "metadata": {},
   "outputs": [
    {
     "data": {
      "text/html": [
       "<div>\n",
       "<style scoped>\n",
       "    .dataframe tbody tr th:only-of-type {\n",
       "        vertical-align: middle;\n",
       "    }\n",
       "\n",
       "    .dataframe tbody tr th {\n",
       "        vertical-align: top;\n",
       "    }\n",
       "\n",
       "    .dataframe thead th {\n",
       "        text-align: right;\n",
       "    }\n",
       "</style>\n",
       "<table border=\"1\" class=\"dataframe\">\n",
       "  <thead>\n",
       "    <tr style=\"text-align: right;\">\n",
       "      <th></th>\n",
       "      <th>timestamp</th>\n",
       "      <th>tweet_text</th>\n",
       "      <th>username</th>\n",
       "      <th>all_hashtags</th>\n",
       "    </tr>\n",
       "  </thead>\n",
       "  <tbody>\n",
       "    <tr>\n",
       "      <th>1</th>\n",
       "      <td>2019-03-14 16:27:07</td>\n",
       "      <td>True, true.  #Instagram #Instagramdown #Facebo...</td>\n",
       "      <td>bklyn_hayshun</td>\n",
       "      <td>['Instagram', 'Instagramdown', 'Facebookdown']</td>\n",
       "    </tr>\n",
       "    <tr>\n",
       "      <th>2</th>\n",
       "      <td>2019-03-14 16:26:46</td>\n",
       "      <td>How to prepare yourself for social media outag...</td>\n",
       "      <td>Postfity</td>\n",
       "      <td>['facebookdown', 'instagramdown']</td>\n",
       "    </tr>\n",
       "    <tr>\n",
       "      <th>3</th>\n",
       "      <td>2019-03-14 16:25:41</td>\n",
       "      <td>When #FacebookDown #facebookoutage #InstagramB...</td>\n",
       "      <td>NikeMC</td>\n",
       "      <td>['FacebookDown', 'facebookoutage', 'InstagramB...</td>\n",
       "    </tr>\n",
       "    <tr>\n",
       "      <th>4</th>\n",
       "      <td>2019-03-14 16:24:50</td>\n",
       "      <td>#FacebookDown and #instagramdown make me conte...</td>\n",
       "      <td>ftchkn</td>\n",
       "      <td>['FacebookDown', 'instagramdown', 'crypto', 'b...</td>\n",
       "    </tr>\n",
       "    <tr>\n",
       "      <th>5</th>\n",
       "      <td>2019-03-14 16:24:01</td>\n",
       "      <td>Facebook, Instagram And Whatsapp Hit By Major ...</td>\n",
       "      <td>DailyMulligan</td>\n",
       "      <td>['FacebookDown', 'instagramdown', 'whatsappdow...</td>\n",
       "    </tr>\n",
       "  </tbody>\n",
       "</table>\n",
       "</div>"
      ],
      "text/plain": [
       "             timestamp                                         tweet_text  \\\n",
       "1  2019-03-14 16:27:07  True, true.  #Instagram #Instagramdown #Facebo...   \n",
       "2  2019-03-14 16:26:46  How to prepare yourself for social media outag...   \n",
       "3  2019-03-14 16:25:41  When #FacebookDown #facebookoutage #InstagramB...   \n",
       "4  2019-03-14 16:24:50  #FacebookDown and #instagramdown make me conte...   \n",
       "5  2019-03-14 16:24:01  Facebook, Instagram And Whatsapp Hit By Major ...   \n",
       "\n",
       "        username                                       all_hashtags  \n",
       "1  bklyn_hayshun     ['Instagram', 'Instagramdown', 'Facebookdown']  \n",
       "2       Postfity                  ['facebookdown', 'instagramdown']  \n",
       "3         NikeMC  ['FacebookDown', 'facebookoutage', 'InstagramB...  \n",
       "4         ftchkn  ['FacebookDown', 'instagramdown', 'crypto', 'b...  \n",
       "5  DailyMulligan  ['FacebookDown', 'instagramdown', 'whatsappdow...  "
      ]
     },
     "execution_count": 17,
     "metadata": {},
     "output_type": "execute_result"
    }
   ],
   "source": [
    "tweets.head()"
   ]
  },
  {
   "cell_type": "code",
   "execution_count": 18,
   "metadata": {},
   "outputs": [
    {
     "data": {
      "text/html": [
       "<div>\n",
       "<style scoped>\n",
       "    .dataframe tbody tr th:only-of-type {\n",
       "        vertical-align: middle;\n",
       "    }\n",
       "\n",
       "    .dataframe tbody tr th {\n",
       "        vertical-align: top;\n",
       "    }\n",
       "\n",
       "    .dataframe thead th {\n",
       "        text-align: right;\n",
       "    }\n",
       "</style>\n",
       "<table border=\"1\" class=\"dataframe\">\n",
       "  <thead>\n",
       "    <tr style=\"text-align: right;\">\n",
       "      <th></th>\n",
       "      <th>timestamp</th>\n",
       "      <th>tweet_text</th>\n",
       "      <th>username</th>\n",
       "      <th>all_hashtags</th>\n",
       "    </tr>\n",
       "  </thead>\n",
       "  <tbody>\n",
       "    <tr>\n",
       "      <th>count</th>\n",
       "      <td>453338</td>\n",
       "      <td>453338</td>\n",
       "      <td>453338</td>\n",
       "      <td>453338</td>\n",
       "    </tr>\n",
       "    <tr>\n",
       "      <th>unique</th>\n",
       "      <td>5585</td>\n",
       "      <td>6677</td>\n",
       "      <td>5757</td>\n",
       "      <td>2866</td>\n",
       "    </tr>\n",
       "    <tr>\n",
       "      <th>top</th>\n",
       "      <td>2019-03-14 14:34:19</td>\n",
       "      <td>Thank you @Twitter for being you. Yesterday, @...</td>\n",
       "      <td>BestPhotosFilms</td>\n",
       "      <td>['FacebookDown', 'instagramdown']</td>\n",
       "    </tr>\n",
       "    <tr>\n",
       "      <th>freq</th>\n",
       "      <td>892</td>\n",
       "      <td>890</td>\n",
       "      <td>2674</td>\n",
       "      <td>37958</td>\n",
       "    </tr>\n",
       "  </tbody>\n",
       "</table>\n",
       "</div>"
      ],
      "text/plain": [
       "                  timestamp  \\\n",
       "count                453338   \n",
       "unique                 5585   \n",
       "top     2019-03-14 14:34:19   \n",
       "freq                    892   \n",
       "\n",
       "                                               tweet_text         username  \\\n",
       "count                                              453338           453338   \n",
       "unique                                               6677             5757   \n",
       "top     Thank you @Twitter for being you. Yesterday, @...  BestPhotosFilms   \n",
       "freq                                                  890             2674   \n",
       "\n",
       "                             all_hashtags  \n",
       "count                              453338  \n",
       "unique                               2866  \n",
       "top     ['FacebookDown', 'instagramdown']  \n",
       "freq                                37958  "
      ]
     },
     "execution_count": 18,
     "metadata": {},
     "output_type": "execute_result"
    }
   ],
   "source": [
    "tweets.describe()"
   ]
  },
  {
   "cell_type": "markdown",
   "metadata": {},
   "source": [
    "# Data Preparation"
   ]
  },
  {
   "cell_type": "markdown",
   "metadata": {},
   "source": [
    "## HTML encoding"
   ]
  },
  {
   "cell_type": "code",
   "execution_count": 19,
   "metadata": {},
   "outputs": [
    {
     "name": "stdout",
     "output_type": "stream",
     "text": [
      "How to prepare yourself for social media outage? How can you make sure your social media strategy is sustainable? Check out our guest post on GetaNewsletter's blog &amp; find out how to use social media to collect email subscribers https://t.co/yKXmmCwgpA #facebookdown #instagramdown\n"
     ]
    }
   ],
   "source": [
    "pd.options.display.max_colwidth\n",
    "text_with_html_encoding = tweets[tweets['tweet_text'].str.contains('&amp')]['tweet_text'].iloc[0]\n",
    "print(text_with_html_encoding)"
   ]
  },
  {
   "cell_type": "code",
   "execution_count": 20,
   "metadata": {
    "scrolled": true
   },
   "outputs": [
    {
     "name": "stdout",
     "output_type": "stream",
     "text": [
      "How to prepare yourself for social media outage? How can you make sure your social media strategy is sustainable? Check out our guest post on GetaNewsletter's blog & find out how to use social media to collect email subscribers https://t.co/yKXmmCwgpA #facebookdown #instagramdown\n"
     ]
    }
   ],
   "source": [
    "from bs4 import BeautifulSoup\n",
    "example1 = BeautifulSoup(text_with_html_encoding, 'lxml')\n",
    "print(example1.get_text())"
   ]
  },
  {
   "cell_type": "markdown",
   "metadata": {},
   "source": [
    "## Lower Case"
   ]
  },
  {
   "cell_type": "code",
   "execution_count": 21,
   "metadata": {},
   "outputs": [],
   "source": [
    "tweets['tweet_text'] = tweets['tweet_text'].astype(str).str.lower()"
   ]
  },
  {
   "cell_type": "markdown",
   "metadata": {},
   "source": [
    "## '@' mention\n",
    "\n",
    "##### I noticed that removing the mention of either facebook, instagram or twitter would make me lose sometimes the tweet's meaning. So I chose to remove any other mention. For example:\n",
    "###### \"thank you twitter for being you. yesterday, facebook and twitter were messing\"\n",
    "###### has more sense than \n",
    "###### \"thank you  for being you. yesterday,  and  were messing\""
   ]
  },
  {
   "cell_type": "code",
   "execution_count": 22,
   "metadata": {},
   "outputs": [
    {
     "data": {
      "text/plain": [
       "'thank you @twitter for being you. yesterday, @facebook and @instagram were messing with our mojo #facebookdown #instagramdown'"
      ]
     },
     "execution_count": 22,
     "metadata": {},
     "output_type": "execute_result"
    }
   ],
   "source": [
    "# The most frequent tweet as I noticed it contained already a '@' from the tweets.describe()\n",
    "tweets['tweet_text'].mode()[1]"
   ]
  },
  {
   "cell_type": "code",
   "execution_count": 23,
   "metadata": {},
   "outputs": [
    {
     "data": {
      "text/plain": [
       "'thank you twitter for being you. yesterday, facebook and twitter were messing with our mojo #facebookdown #instagramdown '"
      ]
     },
     "execution_count": 23,
     "metadata": {},
     "output_type": "execute_result"
    }
   ],
   "source": [
    "import re\n",
    "example = tweets['tweet_text'].mode()[1] + '@amine @hosni'\n",
    "example = re.sub(r'@facebook','facebook',example)\n",
    "example = re.sub(r'@twitter','twitter',example)\n",
    "example = re.sub(r'@instagram','twitter',example)\n",
    "example = re.sub(r'@[A-Za-z0-9]+','',example)\n",
    "example"
   ]
  },
  {
   "cell_type": "markdown",
   "metadata": {},
   "source": [
    "## Defining data cleaning function"
   ]
  },
  {
   "cell_type": "code",
   "execution_count": 24,
   "metadata": {},
   "outputs": [],
   "source": [
    "pattern = '@facebook|@twitter|@instagram|@[a-z0-9]+|https?://[A-Za-z0-9./]+|www.[^ ]+'"
   ]
  },
  {
   "cell_type": "code",
   "execution_count": 25,
   "metadata": {},
   "outputs": [],
   "source": [
    "negations_dic = {\"isn't\":\"is not\", \"aren't\":\"are not\", \"wasn't\":\"was not\", \"weren't\":\"were not\",\n",
    "                \"haven't\":\"have not\",\"hasn't\":\"has not\",\"hadn't\":\"had not\",\"won't\":\"will not\",\n",
    "                \"wouldn't\":\"would not\", \"don't\":\"do not\", \"doesn't\":\"does not\",\"didn't\":\"did not\",\n",
    "                \"can't\":\"can not\",\"couldn't\":\"could not\",\"shouldn't\":\"should not\",\"mightn't\":\"might not\",\n",
    "                \"mustn't\":\"must not\"}\n",
    "neg_pattern = re.compile(r'\\b(' + '|'.join(negations_dic.keys()) + r')\\b')"
   ]
  },
  {
   "cell_type": "code",
   "execution_count": 31,
   "metadata": {
    "scrolled": true
   },
   "outputs": [
    {
     "data": {
      "text/plain": [
       "['true true instagram instagramdown facebookdown',\n",
       " 'how to prepare yourself for social media outage how can you make sure your social media strategy is sustainable check out our guest post on getanewsletter s blog find out how to use social media to collect email subscribers facebookdown instagramdown',\n",
       " 'when facebookdown facebookoutage instagramblackout instagramdown listening to uptight everything s alright by stevie wonder on',\n",
       " 'facebookdown and instagramdown make me contemplate life so much teenagers nowadays spend more than hours each day on social network while they can spend that time educating themselves about crypto blockchain and what project can generate like bcnex bigbom zerobank',\n",
       " 'facebook instagram and whatsapp hit by major outage facebookdown instagramdown whatsappdown worldnews',\n",
       " 'the blessings of the social blackout for our brain peace focus brain addiction hypothalamus priorities resilience facebookdown instagramdown',\n",
       " 'checkout this coversong souhilabenlachhab algeria facebookdown instagramdown suzano facebook btsxsnl sweartogod meb felsefeciata weareerdogan instagram',\n",
       " 'has denied it was hacked despite the most severe outage in the firm s history that kept users locked out for more than hours facebookdown instagramdown',\n",
       " 'andy did not let facebookdown or instagramdown get him down thank you to everyone who donated a total of to build a stronger community rvgives may be over but your support will impact others for a lifetime of restoringhope',\n",
       " 'now we know why instagramdown and facebookdown it s because of avengersendgame']"
      ]
     },
     "execution_count": 31,
     "metadata": {},
     "output_type": "execute_result"
    }
   ],
   "source": [
    "from nltk.tokenize import WordPunctTokenizer\n",
    "tok = WordPunctTokenizer()\n",
    "\n",
    "def tweet_cleaner(text):\n",
    "    soup = BeautifulSoup(text, 'lxml')\n",
    "    souped = soup.get_text()\n",
    "    stripped = re.sub(pattern, '', souped)\n",
    "    neg_handled = neg_pattern.sub(lambda x: negations_dic[x.group()], stripped)\n",
    "    letters_only = re.sub(\"[^a-z]\", \" \", neg_handled)\n",
    "    # During the letters_only process two lines above, it has created unnecessay white spaces,\n",
    "    # I will tokenize and join together to remove unneccessary white spaces\n",
    "    words = tok.tokenize(letters_only)\n",
    "    return (\" \".join(words)).strip()\n",
    "\n",
    "testing = tweets['tweet_text'].iloc[:10]\n",
    "test_result = []\n",
    "for t in testing:\n",
    "    test_result.append(tweet_cleaner(t))\n",
    "test_result"
   ]
  },
  {
   "cell_type": "code",
   "execution_count": 35,
   "metadata": {},
   "outputs": [],
   "source": [
    "nums = [0,int(len(tweets)/2),len(tweets)]"
   ]
  },
  {
   "cell_type": "code",
   "execution_count": 36,
   "metadata": {},
   "outputs": [
    {
     "data": {
      "text/plain": [
       "[0, 226669, 453338]"
      ]
     },
     "execution_count": 36,
     "metadata": {},
     "output_type": "execute_result"
    }
   ],
   "source": [
    "nums"
   ]
  },
  {
   "cell_type": "code",
   "execution_count": 37,
   "metadata": {
    "scrolled": true
   },
   "outputs": [
    {
     "name": "stdout",
     "output_type": "stream",
     "text": [
      "Cleaning and parsing the tweets...\n",
      "\n",
      "Tweets 10000 of 226669 has been processed\n",
      "Tweets 20000 of 226669 has been processed\n",
      "Tweets 30000 of 226669 has been processed\n",
      "Tweets 40000 of 226669 has been processed\n",
      "Tweets 50000 of 226669 has been processed\n",
      "Tweets 60000 of 226669 has been processed\n",
      "Tweets 70000 of 226669 has been processed\n",
      "Tweets 80000 of 226669 has been processed\n",
      "Tweets 90000 of 226669 has been processed\n",
      "Tweets 100000 of 226669 has been processed\n",
      "Tweets 110000 of 226669 has been processed\n",
      "Tweets 120000 of 226669 has been processed\n",
      "Tweets 130000 of 226669 has been processed\n",
      "Tweets 140000 of 226669 has been processed\n",
      "Tweets 150000 of 226669 has been processed\n",
      "Tweets 160000 of 226669 has been processed\n",
      "Tweets 170000 of 226669 has been processed\n",
      "Tweets 180000 of 226669 has been processed\n",
      "Tweets 190000 of 226669 has been processed\n",
      "Tweets 200000 of 226669 has been processed\n",
      "Tweets 210000 of 226669 has been processed\n",
      "Tweets 220000 of 226669 has been processed\n",
      "Wall time: 1min 8s\n"
     ]
    }
   ],
   "source": [
    "%%time\n",
    "print(\"Cleaning and parsing the tweets...\\n\")\n",
    "clean_tweets = []\n",
    "for i in range(nums[0],nums[1]):\n",
    "    if( (i+1)%10000 == 0 ):\n",
    "        print(\"Tweets %d of %d has been processed\" % ( i+1, nums[1] ))                                                                   \n",
    "    clean_tweets.append(tweet_cleaner(tweets['tweet_text'].iloc[i]))"
   ]
  },
  {
   "cell_type": "code",
   "execution_count": 38,
   "metadata": {},
   "outputs": [
    {
     "data": {
      "text/plain": [
       "226669"
      ]
     },
     "execution_count": 38,
     "metadata": {},
     "output_type": "execute_result"
    }
   ],
   "source": [
    "len(clean_tweets)"
   ]
  },
  {
   "cell_type": "code",
   "execution_count": 39,
   "metadata": {
    "scrolled": true
   },
   "outputs": [
    {
     "name": "stdout",
     "output_type": "stream",
     "text": [
      "Cleaning and parsing the tweets...\n",
      "\n",
      "Tweets 230000 of 453338 has been processed\n",
      "Tweets 240000 of 453338 has been processed\n",
      "Tweets 250000 of 453338 has been processed\n",
      "Tweets 260000 of 453338 has been processed\n",
      "Tweets 270000 of 453338 has been processed\n",
      "Tweets 280000 of 453338 has been processed\n",
      "Tweets 290000 of 453338 has been processed\n",
      "Tweets 300000 of 453338 has been processed\n",
      "Tweets 310000 of 453338 has been processed\n",
      "Tweets 320000 of 453338 has been processed\n",
      "Tweets 330000 of 453338 has been processed\n",
      "Tweets 340000 of 453338 has been processed\n",
      "Tweets 350000 of 453338 has been processed\n",
      "Tweets 360000 of 453338 has been processed\n",
      "Tweets 370000 of 453338 has been processed\n",
      "Tweets 380000 of 453338 has been processed\n",
      "Tweets 390000 of 453338 has been processed\n",
      "Tweets 400000 of 453338 has been processed\n",
      "Tweets 410000 of 453338 has been processed\n",
      "Tweets 420000 of 453338 has been processed\n",
      "Tweets 430000 of 453338 has been processed\n",
      "Tweets 440000 of 453338 has been processed\n",
      "Tweets 450000 of 453338 has been processed\n",
      "Wall time: 1min 38s\n"
     ]
    }
   ],
   "source": [
    "%%time\n",
    "print(\"Cleaning and parsing the tweets...\\n\")\n",
    "for i in range(nums[1],nums[2]):\n",
    "    if( (i+1)%10000 == 0 ):\n",
    "        print(\"Tweets %d of %d has been processed\" % ( i+1, nums[2] ))                                                                    \n",
    "    clean_tweets.append(tweet_cleaner(tweets['tweet_text'].iloc[i]))"
   ]
  },
  {
   "cell_type": "code",
   "execution_count": 40,
   "metadata": {},
   "outputs": [
    {
     "data": {
      "text/plain": [
       "453338"
      ]
     },
     "execution_count": 40,
     "metadata": {},
     "output_type": "execute_result"
    }
   ],
   "source": [
    "len(clean_tweets)"
   ]
  },
  {
   "cell_type": "code",
   "execution_count": 57,
   "metadata": {
    "scrolled": true
   },
   "outputs": [
    {
     "data": {
      "text/html": [
       "<div>\n",
       "<style scoped>\n",
       "    .dataframe tbody tr th:only-of-type {\n",
       "        vertical-align: middle;\n",
       "    }\n",
       "\n",
       "    .dataframe tbody tr th {\n",
       "        vertical-align: top;\n",
       "    }\n",
       "\n",
       "    .dataframe thead th {\n",
       "        text-align: right;\n",
       "    }\n",
       "</style>\n",
       "<table border=\"1\" class=\"dataframe\">\n",
       "  <thead>\n",
       "    <tr style=\"text-align: right;\">\n",
       "      <th></th>\n",
       "      <th>tweet</th>\n",
       "    </tr>\n",
       "  </thead>\n",
       "  <tbody>\n",
       "    <tr>\n",
       "      <th>0</th>\n",
       "      <td>true true instagram instagramdown facebookdown</td>\n",
       "    </tr>\n",
       "    <tr>\n",
       "      <th>1</th>\n",
       "      <td>how to prepare yourself for social media outage how can you make sure your social media strategy is sustainable check out our guest post on getanewsletter s blog find out how to use social media to collect email subscribers facebookdown instagramdown</td>\n",
       "    </tr>\n",
       "    <tr>\n",
       "      <th>2</th>\n",
       "      <td>when facebookdown facebookoutage instagramblackout instagramdown listening to uptight everything s alright by stevie wonder on</td>\n",
       "    </tr>\n",
       "    <tr>\n",
       "      <th>3</th>\n",
       "      <td>facebookdown and instagramdown make me contemplate life so much teenagers nowadays spend more than hours each day on social network while they can spend that time educating themselves about crypto blockchain and what project can generate like bcnex bigbom zerobank</td>\n",
       "    </tr>\n",
       "    <tr>\n",
       "      <th>4</th>\n",
       "      <td>facebook instagram and whatsapp hit by major outage facebookdown instagramdown whatsappdown worldnews</td>\n",
       "    </tr>\n",
       "  </tbody>\n",
       "</table>\n",
       "</div>"
      ],
      "text/plain": [
       "                                                                                                                                                                                                                                                                      tweet\n",
       "0  true true instagram instagramdown facebookdown                                                                                                                                                                                                                          \n",
       "1  how to prepare yourself for social media outage how can you make sure your social media strategy is sustainable check out our guest post on getanewsletter s blog find out how to use social media to collect email subscribers facebookdown instagramdown              \n",
       "2  when facebookdown facebookoutage instagramblackout instagramdown listening to uptight everything s alright by stevie wonder on                                                                                                                                          \n",
       "3  facebookdown and instagramdown make me contemplate life so much teenagers nowadays spend more than hours each day on social network while they can spend that time educating themselves about crypto blockchain and what project can generate like bcnex bigbom zerobank\n",
       "4  facebook instagram and whatsapp hit by major outage facebookdown instagramdown whatsappdown worldnews                                                                                                                                                                   "
      ]
     },
     "execution_count": 57,
     "metadata": {},
     "output_type": "execute_result"
    }
   ],
   "source": [
    "pd.set_option('display.max_colwidth', -1)\n",
    "clean_df = pd.DataFrame(clean_tweets,columns=['tweet'])\n",
    "clean_df.head()"
   ]
  },
  {
   "cell_type": "code",
   "execution_count": 58,
   "metadata": {},
   "outputs": [
    {
     "data": {
      "text/html": [
       "<div>\n",
       "<style scoped>\n",
       "    .dataframe tbody tr th:only-of-type {\n",
       "        vertical-align: middle;\n",
       "    }\n",
       "\n",
       "    .dataframe tbody tr th {\n",
       "        vertical-align: top;\n",
       "    }\n",
       "\n",
       "    .dataframe thead th {\n",
       "        text-align: right;\n",
       "    }\n",
       "</style>\n",
       "<table border=\"1\" class=\"dataframe\">\n",
       "  <thead>\n",
       "    <tr style=\"text-align: right;\">\n",
       "      <th></th>\n",
       "      <th>tweet</th>\n",
       "    </tr>\n",
       "  </thead>\n",
       "  <tbody>\n",
       "    <tr>\n",
       "      <th>count</th>\n",
       "      <td>453338</td>\n",
       "    </tr>\n",
       "    <tr>\n",
       "      <th>unique</th>\n",
       "      <td>6492</td>\n",
       "    </tr>\n",
       "    <tr>\n",
       "      <th>top</th>\n",
       "      <td>facebookdown and instagramdown so listen to my motivation video</td>\n",
       "    </tr>\n",
       "    <tr>\n",
       "      <th>freq</th>\n",
       "      <td>1784</td>\n",
       "    </tr>\n",
       "  </tbody>\n",
       "</table>\n",
       "</div>"
      ],
      "text/plain": [
       "                                                                  tweet\n",
       "count   453338                                                         \n",
       "unique  6492                                                           \n",
       "top     facebookdown and instagramdown so listen to my motivation video\n",
       "freq    1784                                                           "
      ]
     },
     "execution_count": 58,
     "metadata": {},
     "output_type": "execute_result"
    }
   ],
   "source": [
    "clean_df.describe()"
   ]
  },
  {
   "cell_type": "code",
   "execution_count": 61,
   "metadata": {},
   "outputs": [
    {
     "data": {
      "text/html": [
       "<div>\n",
       "<style scoped>\n",
       "    .dataframe tbody tr th:only-of-type {\n",
       "        vertical-align: middle;\n",
       "    }\n",
       "\n",
       "    .dataframe tbody tr th {\n",
       "        vertical-align: top;\n",
       "    }\n",
       "\n",
       "    .dataframe thead th {\n",
       "        text-align: right;\n",
       "    }\n",
       "</style>\n",
       "<table border=\"1\" class=\"dataframe\">\n",
       "  <thead>\n",
       "    <tr style=\"text-align: right;\">\n",
       "      <th></th>\n",
       "      <th>tweet</th>\n",
       "    </tr>\n",
       "  </thead>\n",
       "  <tbody>\n",
       "    <tr>\n",
       "      <th>count</th>\n",
       "      <td>6492</td>\n",
       "    </tr>\n",
       "    <tr>\n",
       "      <th>unique</th>\n",
       "      <td>6492</td>\n",
       "    </tr>\n",
       "    <tr>\n",
       "      <th>top</th>\n",
       "      <td>f in chat for instagram and facebook facebookdown instagramdown instagramblackout</td>\n",
       "    </tr>\n",
       "    <tr>\n",
       "      <th>freq</th>\n",
       "      <td>1</td>\n",
       "    </tr>\n",
       "  </tbody>\n",
       "</table>\n",
       "</div>"
      ],
      "text/plain": [
       "                                                                                    tweet\n",
       "count   6492                                                                             \n",
       "unique  6492                                                                             \n",
       "top     f in chat for instagram and facebook facebookdown instagramdown instagramblackout\n",
       "freq    1                                                                                "
      ]
     },
     "execution_count": 61,
     "metadata": {},
     "output_type": "execute_result"
    }
   ],
   "source": [
    "clean_df.drop_duplicates(subset='tweet',keep='first',inplace=True)\n",
    "clean_df.describe()"
   ]
  },
  {
   "cell_type": "code",
   "execution_count": 63,
   "metadata": {},
   "outputs": [],
   "source": [
    "clean_df.to_csv('clean_unique_tweets.csv',encoding='utf-8',index=False)"
   ]
  },
  {
   "cell_type": "code",
   "execution_count": null,
   "metadata": {},
   "outputs": [],
   "source": []
  },
  {
   "cell_type": "code",
   "execution_count": null,
   "metadata": {},
   "outputs": [],
   "source": []
  },
  {
   "cell_type": "code",
   "execution_count": null,
   "metadata": {},
   "outputs": [],
   "source": []
  },
  {
   "cell_type": "code",
   "execution_count": 46,
   "metadata": {},
   "outputs": [
    {
     "data": {
      "text/plain": [
       "445     206480\n",
       "446     88308 \n",
       "447     11175 \n",
       "890     5340  \n",
       "1       5173  \n",
       "439     4829  \n",
       "423     4653  \n",
       "429     4290  \n",
       "386     4246  \n",
       "381     3429  \n",
       "392     3136  \n",
       "435     3045  \n",
       "277     2770  \n",
       "417     2502  \n",
       "378     2268  \n",
       "398     1990  \n",
       "380     1900  \n",
       "357     1785  \n",
       "1784    1784  \n",
       "891     1782  \n",
       "1780    1780  \n",
       "427     1708  \n",
       "411     1644  \n",
       "409     1636  \n",
       "265     1590  \n",
       "374     1496  \n",
       "1338    1338  \n",
       "1337    1337  \n",
       "444     1332  \n",
       "331     1324  \n",
       "        ...   \n",
       "72      72    \n",
       "69      69    \n",
       "65      65    \n",
       "20      60    \n",
       "57      57    \n",
       "3       54    \n",
       "26      52    \n",
       "52      52    \n",
       "51      51    \n",
       "12      48    \n",
       "48      48    \n",
       "42      42    \n",
       "37      37    \n",
       "36      36    \n",
       "35      35    \n",
       "17      34    \n",
       "34      34    \n",
       "33      33    \n",
       "32      32    \n",
       "25      25    \n",
       "23      23    \n",
       "5       20    \n",
       "6       18    \n",
       "8       16    \n",
       "15      15    \n",
       "7       14    \n",
       "13      13    \n",
       "4       12    \n",
       "11      11    \n",
       "9       9     \n",
       "Name: number_of_retweets, Length: 245, dtype: int64"
      ]
     },
     "execution_count": 46,
     "metadata": {},
     "output_type": "execute_result"
    }
   ],
   "source": [
    "clean_df['number_of_retweets'].value_counts()"
   ]
  },
  {
   "cell_type": "code",
   "execution_count": null,
   "metadata": {},
   "outputs": [],
   "source": []
  },
  {
   "cell_type": "code",
   "execution_count": null,
   "metadata": {},
   "outputs": [],
   "source": []
  },
  {
   "cell_type": "code",
   "execution_count": null,
   "metadata": {},
   "outputs": [],
   "source": []
  },
  {
   "cell_type": "code",
   "execution_count": null,
   "metadata": {},
   "outputs": [],
   "source": []
  },
  {
   "cell_type": "code",
   "execution_count": null,
   "metadata": {},
   "outputs": [],
   "source": []
  },
  {
   "cell_type": "code",
   "execution_count": null,
   "metadata": {
    "scrolled": true
   },
   "outputs": [],
   "source": [
    "np.sum(clean_df.isnull().any(axis=1))"
   ]
  },
  {
   "cell_type": "code",
   "execution_count": null,
   "metadata": {
    "scrolled": true
   },
   "outputs": [],
   "source": [
    "clean_df.isnull().any(axis=0)"
   ]
  },
  {
   "cell_type": "code",
   "execution_count": null,
   "metadata": {},
   "outputs": [],
   "source": [
    "tweets.iloc[clean_df[clean_df.isnull().any(axis=1)].index,:].head()"
   ]
  },
  {
   "cell_type": "code",
   "execution_count": null,
   "metadata": {},
   "outputs": [],
   "source": [
    "clean_df.dropna(inplace=True)\n",
    "clean_df.reset_index(drop=True,inplace=True)\n",
    "clean_df.info()"
   ]
  },
  {
   "cell_type": "code",
   "execution_count": null,
   "metadata": {},
   "outputs": [],
   "source": [
    "clean_df.head()"
   ]
  },
  {
   "cell_type": "code",
   "execution_count": null,
   "metadata": {},
   "outputs": [],
   "source": []
  },
  {
   "cell_type": "markdown",
   "metadata": {},
   "source": [
    "### Different approach to try solving that shifting that occured"
   ]
  },
  {
   "cell_type": "code",
   "execution_count": null,
   "metadata": {
    "scrolled": true
   },
   "outputs": [],
   "source": [
    "%%time\n",
    "print(\"Cleaning and parsing the tweets...\\n\")\n",
    "ct = pd.DataFrame(columns=cols)\n",
    "for i in range(nums[0],nums[2]): \n",
    "    if( (i+1)%10000 == 0 ):\n",
    "        print(\"Tweets %d of %d has been processed\" % ( i+1, nums[2] ))                                                                  \n",
    "    ct = ct.append({'tweet_text': tweet_cleaner(tweets['tweet_text'].iloc[i]), 'timestamp': tweets['timestamp'].iloc[i],\n",
    "                                       'username': tweets['username'].iloc[i],'all_hashtags': tweets['all_hashtags'].iloc[i]}, ignore_index=True)"
   ]
  },
  {
   "cell_type": "code",
   "execution_count": null,
   "metadata": {},
   "outputs": [],
   "source": [
    "ct.head()"
   ]
  },
  {
   "cell_type": "code",
   "execution_count": null,
   "metadata": {},
   "outputs": [],
   "source": [
    "ct.describe()"
   ]
  },
  {
   "cell_type": "code",
   "execution_count": null,
   "metadata": {},
   "outputs": [],
   "source": [
    "top_10_users = ct['username'].value_counts().head(10)\n",
    "top_10_users"
   ]
  },
  {
   "cell_type": "code",
   "execution_count": null,
   "metadata": {},
   "outputs": [],
   "source": [
    "top_10_tweets = ct['tweet_text'].value_counts().head(10)\n",
    "top_10_tweets"
   ]
  },
  {
   "cell_type": "code",
   "execution_count": null,
   "metadata": {},
   "outputs": [],
   "source": [
    "tweets_polarity = ct.copy()"
   ]
  }
 ],
 "metadata": {
  "kernelspec": {
   "display_name": "Python 3",
   "language": "python",
   "name": "python3"
  },
  "language_info": {
   "codemirror_mode": {
    "name": "ipython",
    "version": 3
   },
   "file_extension": ".py",
   "mimetype": "text/x-python",
   "name": "python",
   "nbconvert_exporter": "python",
   "pygments_lexer": "ipython3",
   "version": "3.7.0"
  }
 },
 "nbformat": 4,
 "nbformat_minor": 2
}
