{
 "cells": [
  {
   "cell_type": "code",
   "execution_count": 170,
   "metadata": {},
   "outputs": [],
   "source": [
    "import numpy as np\n",
    "import pandas as pd\n",
    "import matplotlib as plt\n",
    "import seaborn as sns\n",
    "%matplotlib inline\n",
    "import warnings\n",
    "warnings.filterwarnings('ignore')"
   ]
  },
  {
   "cell_type": "code",
   "execution_count": 171,
   "metadata": {},
   "outputs": [],
   "source": [
    "cols = ['timestamp','tweet_text','username','all_hashtags']"
   ]
  },
  {
   "cell_type": "code",
   "execution_count": 172,
   "metadata": {},
   "outputs": [],
   "source": [
    "df = pd.read_csv(\"FacebookDown_instagramdown.csv\",header=None, names=cols)"
   ]
  },
  {
   "cell_type": "code",
   "execution_count": 173,
   "metadata": {},
   "outputs": [],
   "source": [
    "df = df[df['timestamp']!='timestamp']"
   ]
  },
  {
   "cell_type": "code",
   "execution_count": 174,
   "metadata": {},
   "outputs": [
    {
     "name": "stdout",
     "output_type": "stream",
     "text": [
      "<class 'pandas.core.frame.DataFrame'>\n",
      "Int64Index: 434571 entries, 1 to 435072\n",
      "Data columns (total 4 columns):\n",
      "timestamp       434571 non-null object\n",
      "tweet_text      434571 non-null object\n",
      "username        434571 non-null object\n",
      "all_hashtags    434571 non-null object\n",
      "dtypes: object(4)\n",
      "memory usage: 16.6+ MB\n"
     ]
    }
   ],
   "source": [
    "df.info()"
   ]
  },
  {
   "cell_type": "code",
   "execution_count": 175,
   "metadata": {},
   "outputs": [
    {
     "data": {
      "text/html": [
       "<div>\n",
       "<style scoped>\n",
       "    .dataframe tbody tr th:only-of-type {\n",
       "        vertical-align: middle;\n",
       "    }\n",
       "\n",
       "    .dataframe tbody tr th {\n",
       "        vertical-align: top;\n",
       "    }\n",
       "\n",
       "    .dataframe thead th {\n",
       "        text-align: right;\n",
       "    }\n",
       "</style>\n",
       "<table border=\"1\" class=\"dataframe\">\n",
       "  <thead>\n",
       "    <tr style=\"text-align: right;\">\n",
       "      <th></th>\n",
       "      <th>timestamp</th>\n",
       "      <th>tweet_text</th>\n",
       "      <th>username</th>\n",
       "      <th>all_hashtags</th>\n",
       "    </tr>\n",
       "  </thead>\n",
       "  <tbody>\n",
       "    <tr>\n",
       "      <th>count</th>\n",
       "      <td>434571</td>\n",
       "      <td>434571</td>\n",
       "      <td>434571</td>\n",
       "      <td>434571</td>\n",
       "    </tr>\n",
       "    <tr>\n",
       "      <th>unique</th>\n",
       "      <td>1288</td>\n",
       "      <td>1299</td>\n",
       "      <td>1179</td>\n",
       "      <td>794</td>\n",
       "    </tr>\n",
       "    <tr>\n",
       "      <th>top</th>\n",
       "      <td>2019-03-14 14:34:19</td>\n",
       "      <td>Thank you @Twitter for being you. Yesterday, @...</td>\n",
       "      <td>BestPhotosFilms</td>\n",
       "      <td>['FacebookDown', 'instagramdown']</td>\n",
       "    </tr>\n",
       "    <tr>\n",
       "      <th>freq</th>\n",
       "      <td>866</td>\n",
       "      <td>864</td>\n",
       "      <td>2596</td>\n",
       "      <td>36126</td>\n",
       "    </tr>\n",
       "  </tbody>\n",
       "</table>\n",
       "</div>"
      ],
      "text/plain": [
       "                  timestamp  \\\n",
       "count                434571   \n",
       "unique                 1288   \n",
       "top     2019-03-14 14:34:19   \n",
       "freq                    866   \n",
       "\n",
       "                                               tweet_text         username  \\\n",
       "count                                              434571           434571   \n",
       "unique                                               1299             1179   \n",
       "top     Thank you @Twitter for being you. Yesterday, @...  BestPhotosFilms   \n",
       "freq                                                  864             2596   \n",
       "\n",
       "                             all_hashtags  \n",
       "count                              434571  \n",
       "unique                                794  \n",
       "top     ['FacebookDown', 'instagramdown']  \n",
       "freq                                36126  "
      ]
     },
     "execution_count": 175,
     "metadata": {},
     "output_type": "execute_result"
    }
   ],
   "source": [
    "df.describe()"
   ]
  },
  {
   "cell_type": "code",
   "execution_count": 176,
   "metadata": {},
   "outputs": [],
   "source": [
    "tweets = df.copy()"
   ]
  },
  {
   "cell_type": "code",
   "execution_count": 177,
   "metadata": {},
   "outputs": [
    {
     "data": {
      "text/html": [
       "<div>\n",
       "<style scoped>\n",
       "    .dataframe tbody tr th:only-of-type {\n",
       "        vertical-align: middle;\n",
       "    }\n",
       "\n",
       "    .dataframe tbody tr th {\n",
       "        vertical-align: top;\n",
       "    }\n",
       "\n",
       "    .dataframe thead th {\n",
       "        text-align: right;\n",
       "    }\n",
       "</style>\n",
       "<table border=\"1\" class=\"dataframe\">\n",
       "  <thead>\n",
       "    <tr style=\"text-align: right;\">\n",
       "      <th></th>\n",
       "      <th>timestamp</th>\n",
       "      <th>tweet_text</th>\n",
       "      <th>username</th>\n",
       "      <th>all_hashtags</th>\n",
       "    </tr>\n",
       "  </thead>\n",
       "  <tbody>\n",
       "    <tr>\n",
       "      <th>1</th>\n",
       "      <td>2019-03-14 16:27:07</td>\n",
       "      <td>True, true.  #Instagram #Instagramdown #Facebo...</td>\n",
       "      <td>bklyn_hayshun</td>\n",
       "      <td>['Instagram', 'Instagramdown', 'Facebookdown']</td>\n",
       "    </tr>\n",
       "    <tr>\n",
       "      <th>2</th>\n",
       "      <td>2019-03-14 16:26:46</td>\n",
       "      <td>How to prepare yourself for social media outag...</td>\n",
       "      <td>Postfity</td>\n",
       "      <td>['facebookdown', 'instagramdown']</td>\n",
       "    </tr>\n",
       "    <tr>\n",
       "      <th>3</th>\n",
       "      <td>2019-03-14 16:25:41</td>\n",
       "      <td>When #FacebookDown #facebookoutage #InstagramB...</td>\n",
       "      <td>NikeMC</td>\n",
       "      <td>['FacebookDown', 'facebookoutage', 'InstagramB...</td>\n",
       "    </tr>\n",
       "    <tr>\n",
       "      <th>4</th>\n",
       "      <td>2019-03-14 16:24:50</td>\n",
       "      <td>#FacebookDown and #instagramdown make me conte...</td>\n",
       "      <td>ftchkn</td>\n",
       "      <td>['FacebookDown', 'instagramdown', 'crypto', 'b...</td>\n",
       "    </tr>\n",
       "    <tr>\n",
       "      <th>5</th>\n",
       "      <td>2019-03-14 16:24:01</td>\n",
       "      <td>Facebook, Instagram And Whatsapp Hit By Major ...</td>\n",
       "      <td>DailyMulligan</td>\n",
       "      <td>['FacebookDown', 'instagramdown', 'whatsappdow...</td>\n",
       "    </tr>\n",
       "  </tbody>\n",
       "</table>\n",
       "</div>"
      ],
      "text/plain": [
       "             timestamp                                         tweet_text  \\\n",
       "1  2019-03-14 16:27:07  True, true.  #Instagram #Instagramdown #Facebo...   \n",
       "2  2019-03-14 16:26:46  How to prepare yourself for social media outag...   \n",
       "3  2019-03-14 16:25:41  When #FacebookDown #facebookoutage #InstagramB...   \n",
       "4  2019-03-14 16:24:50  #FacebookDown and #instagramdown make me conte...   \n",
       "5  2019-03-14 16:24:01  Facebook, Instagram And Whatsapp Hit By Major ...   \n",
       "\n",
       "        username                                       all_hashtags  \n",
       "1  bklyn_hayshun     ['Instagram', 'Instagramdown', 'Facebookdown']  \n",
       "2       Postfity                  ['facebookdown', 'instagramdown']  \n",
       "3         NikeMC  ['FacebookDown', 'facebookoutage', 'InstagramB...  \n",
       "4         ftchkn  ['FacebookDown', 'instagramdown', 'crypto', 'b...  \n",
       "5  DailyMulligan  ['FacebookDown', 'instagramdown', 'whatsappdow...  "
      ]
     },
     "execution_count": 177,
     "metadata": {},
     "output_type": "execute_result"
    }
   ],
   "source": [
    "tweets.head()"
   ]
  },
  {
   "cell_type": "code",
   "execution_count": 178,
   "metadata": {},
   "outputs": [
    {
     "data": {
      "text/html": [
       "<div>\n",
       "<style scoped>\n",
       "    .dataframe tbody tr th:only-of-type {\n",
       "        vertical-align: middle;\n",
       "    }\n",
       "\n",
       "    .dataframe tbody tr th {\n",
       "        vertical-align: top;\n",
       "    }\n",
       "\n",
       "    .dataframe thead th {\n",
       "        text-align: right;\n",
       "    }\n",
       "</style>\n",
       "<table border=\"1\" class=\"dataframe\">\n",
       "  <thead>\n",
       "    <tr style=\"text-align: right;\">\n",
       "      <th></th>\n",
       "      <th>timestamp</th>\n",
       "      <th>tweet_text</th>\n",
       "      <th>username</th>\n",
       "      <th>all_hashtags</th>\n",
       "    </tr>\n",
       "  </thead>\n",
       "  <tbody>\n",
       "    <tr>\n",
       "      <th>count</th>\n",
       "      <td>434571</td>\n",
       "      <td>434571</td>\n",
       "      <td>434571</td>\n",
       "      <td>434571</td>\n",
       "    </tr>\n",
       "    <tr>\n",
       "      <th>unique</th>\n",
       "      <td>1288</td>\n",
       "      <td>1299</td>\n",
       "      <td>1179</td>\n",
       "      <td>794</td>\n",
       "    </tr>\n",
       "    <tr>\n",
       "      <th>top</th>\n",
       "      <td>2019-03-14 14:34:19</td>\n",
       "      <td>Thank you @Twitter for being you. Yesterday, @...</td>\n",
       "      <td>BestPhotosFilms</td>\n",
       "      <td>['FacebookDown', 'instagramdown']</td>\n",
       "    </tr>\n",
       "    <tr>\n",
       "      <th>freq</th>\n",
       "      <td>866</td>\n",
       "      <td>864</td>\n",
       "      <td>2596</td>\n",
       "      <td>36126</td>\n",
       "    </tr>\n",
       "  </tbody>\n",
       "</table>\n",
       "</div>"
      ],
      "text/plain": [
       "                  timestamp  \\\n",
       "count                434571   \n",
       "unique                 1288   \n",
       "top     2019-03-14 14:34:19   \n",
       "freq                    866   \n",
       "\n",
       "                                               tweet_text         username  \\\n",
       "count                                              434571           434571   \n",
       "unique                                               1299             1179   \n",
       "top     Thank you @Twitter for being you. Yesterday, @...  BestPhotosFilms   \n",
       "freq                                                  864             2596   \n",
       "\n",
       "                             all_hashtags  \n",
       "count                              434571  \n",
       "unique                                794  \n",
       "top     ['FacebookDown', 'instagramdown']  \n",
       "freq                                36126  "
      ]
     },
     "execution_count": 178,
     "metadata": {},
     "output_type": "execute_result"
    }
   ],
   "source": [
    "tweets.describe()"
   ]
  },
  {
   "cell_type": "markdown",
   "metadata": {},
   "source": [
    "# Data Preparation"
   ]
  },
  {
   "cell_type": "markdown",
   "metadata": {},
   "source": [
    "## HTML encoding"
   ]
  },
  {
   "cell_type": "code",
   "execution_count": 179,
   "metadata": {},
   "outputs": [
    {
     "name": "stdout",
     "output_type": "stream",
     "text": [
      "How to prepare yourself for social media outage? How can you make sure your social media strategy is sustainable? Check out our guest post on GetaNewsletter's blog &amp; find out how to use social media to collect email subscribers https://t.co/yKXmmCwgpA #facebookdown #instagramdown\n"
     ]
    }
   ],
   "source": [
    "pd.options.display.max_colwidth\n",
    "text_with_html_encoding = tweets[tweets['tweet_text'].str.contains('&amp')]['tweet_text'].iloc[0]\n",
    "print(text_with_html_encoding)"
   ]
  },
  {
   "cell_type": "code",
   "execution_count": 180,
   "metadata": {
    "scrolled": true
   },
   "outputs": [
    {
     "name": "stdout",
     "output_type": "stream",
     "text": [
      "How to prepare yourself for social media outage? How can you make sure your social media strategy is sustainable? Check out our guest post on GetaNewsletter's blog & find out how to use social media to collect email subscribers https://t.co/yKXmmCwgpA #facebookdown #instagramdown\n"
     ]
    }
   ],
   "source": [
    "from bs4 import BeautifulSoup\n",
    "example1 = BeautifulSoup(text_with_html_encoding, 'lxml')\n",
    "print(example1.get_text())"
   ]
  },
  {
   "cell_type": "markdown",
   "metadata": {},
   "source": [
    "## Lower Case"
   ]
  },
  {
   "cell_type": "code",
   "execution_count": 181,
   "metadata": {},
   "outputs": [],
   "source": [
    "tweets['tweet_text'] = tweets['tweet_text'].astype(str).str.lower()"
   ]
  },
  {
   "cell_type": "markdown",
   "metadata": {},
   "source": [
    "## '@' mention\n",
    "\n",
    "##### I noticed that removing the mention of either facebook, instagram or twitter would make me lose sometimes the tweet's meaning. So I chose to remove any other mention. For example:\n",
    "###### \"thank you twitter for being you. yesterday, facebook and twitter were messing\"\n",
    "###### has more sense than \n",
    "###### \"thank you  for being you. yesterday,  and  were messing\""
   ]
  },
  {
   "cell_type": "code",
   "execution_count": 182,
   "metadata": {},
   "outputs": [
    {
     "data": {
      "text/plain": [
       "'thank you @twitter for being you. yesterday, @facebook and @instagram were messing with our mojo #facebookdown #instagramdown'"
      ]
     },
     "execution_count": 182,
     "metadata": {},
     "output_type": "execute_result"
    }
   ],
   "source": [
    "# The most frequent tweet as I noticed it contained already a '@' from the tweets.describe()\n",
    "tweets['tweet_text'].mode()[1]"
   ]
  },
  {
   "cell_type": "code",
   "execution_count": 183,
   "metadata": {},
   "outputs": [
    {
     "data": {
      "text/plain": [
       "'thank you twitter for being you. yesterday, facebook and twitter were messing with our mojo #facebookdown #instagramdown '"
      ]
     },
     "execution_count": 183,
     "metadata": {},
     "output_type": "execute_result"
    }
   ],
   "source": [
    "import re\n",
    "example = tweets['tweet_text'].mode()[1] + '@amine @hosni'\n",
    "example = re.sub(r'@facebook','facebook',example)\n",
    "example = re.sub(r'@twitter','twitter',example)\n",
    "example = re.sub(r'@instagram','twitter',example)\n",
    "example = re.sub(r'@[A-Za-z0-9]+','',example)\n",
    "example"
   ]
  },
  {
   "cell_type": "markdown",
   "metadata": {},
   "source": [
    "## Defining data cleaning function"
   ]
  },
  {
   "cell_type": "code",
   "execution_count": 184,
   "metadata": {},
   "outputs": [],
   "source": [
    "pattern = '@facebook|@twitter|@instagram|@[a-z0-9]+|https?://[A-Za-z0-9./]+'"
   ]
  },
  {
   "cell_type": "code",
   "execution_count": 185,
   "metadata": {},
   "outputs": [
    {
     "data": {
      "text/plain": [
       "['true true instagram instagramdown facebookdown',\n",
       " 'how to prepare yourself for social media outage how can you make sure your social media strategy is sustainable check out our guest post on getanewsletter s blog find out how to use social media to collect email subscribers facebookdown instagramdown',\n",
       " 'when facebookdown facebookoutage instagramblackout instagramdown listening to uptight everything s alright by stevie wonder on',\n",
       " 'facebookdown and instagramdown make me contemplate life so much teenagers nowadays spend more than hours each day on social network while they can spend that time educating themselves about crypto blockchain and what project can generate like bcnex bigbom zerobank',\n",
       " 'facebook instagram and whatsapp hit by major outage facebookdown instagramdown whatsappdown worldnews',\n",
       " 'the blessings of the social blackout for our brain peace focus brain addiction hypothalamus priorities resilience facebookdown instagramdown',\n",
       " 'checkout this coversong souhilabenlachhab algeria facebookdown instagramdown suzano facebook btsxsnl sweartogod meb felsefeciata weareerdogan instagram',\n",
       " 'has denied it was hacked despite the most severe outage in the firm s history that kept users locked out for more than hours facebookdown instagramdown',\n",
       " 'andy didn t let facebookdown or instagramdown get him down thank you to everyone who donated a total of to build a stronger community rvgives may be over but your support will impact others for a lifetime of restoringhope',\n",
       " 'now we know why instagramdown and facebookdown it s because of avengersendgame',\n",
       " 'telegram messenger gained million new users within last hours thanks to the facebook instagram and whatsapp global outages facebookisdown facebookdown facebookisdown whatsappdown instagramdown instagramblackout instagramisdown',\n",
       " 'in the aftermath of facebookdown instagramdown whatsappdown asks are we in too deep',\n",
       " 'technically yesterday but facebookdown instagramdown',\n",
       " 'people in i ve survived ww people in i ve survived facebookdown and instagramdown',\n",
       " 'i tried to post this yesterday like times so my apologies if it suddenly does post times instagramdown facebookdown loved having piano gal in the studio the other day she s',\n",
       " 'look i can deal with facebookdown instagramdown but bobdown is too much',\n",
       " 'we didn t mean to facebookdown instagramdown plumber whateverittakes newnan',\n",
       " 'the world yesterday during the great instagram and facebook outage instagramblackout instagramdown facebookdown',\n",
       " 'need a great book to read the fake date a date that left her fighting for her life thriller suspense womensupportingwomen thursdaythoughts psychologicalthriller facebookdown instagramdown yorkshire scarborough lovesuspense',\n",
       " 'there s still issues facebookdown instagramdown whatsappdown',\n",
       " 'tomorrow night the st patrick s day variants and the jack of spades variants leave the store jack of spades art by arturo louga and sanju nivangune comicart facebookdown instagramdown comiccon stpatricksday',\n",
       " 'both said we don t know what s going on with our platforms but we can assure you it wasn t a hack lie question is how much of our info was leaked stolen etc ddos facebookdown instagramdown facebookhacked instagramhacked',\n",
       " 'facebookdown instagramdown the election has declared india so i think every social media like instagram and facebook has occurring some problem',\n",
       " 'the irony made me chuckle during its outage facebook turns to twitter to share updates by via socialmedia instagramdown facebookdown',\n",
       " 'need to catch up today facebookdown instagramdown greatoutage isurvived',\n",
       " 'telegram messenger gained million new users within last hours thanks to the facebook instagram and whatsapp global outages facebookisdown facebookdown facebookisdown whatsappdown instagramdown',\n",
       " 'don t worry this shit is temporary on twitter now facebook n instagram working fine so everything will fine here again facebookdown instagramdown',\n",
       " 'so that explains everything mojo jojo took down facebook s sites facebookdown instagramdown',\n",
       " 'top trends today at indonesia whatsappdown jaenudindown facebookdown instagramdown gopersi o',\n",
       " 'breaking facebook says it is back up after a server configuration issue made it difficult for people to access its apps and services facebookdown facebookisdown facebook instagramdown forsan news',\n",
       " 'facebook instagram and whatsapp are all having problems this is the reason behind it facebookdown facebookoutage facebook facebookisdown facebook instagramdown instagram instagramnotworking instagramblackout whatsappdown whatsapp',\n",
       " 'i was born for this moment betoforpresident election tcot trumptrain instagramdown facebookdown',\n",
       " 'is it just me or is facebookdown instagramdown hapning just before faces a criminal probe on their data practices awfully close to each other did they lose a lot of incriminating data',\n",
       " 'this weeks rooms are up for sandals beaches couldn t post yesterday because of instagramdown and facebookdown so here they are contact me today for all booking information deposits as low as per person sandalsspecialist sandalstravelagent shopsmallbusiness',\n",
       " 'i thoughts it s just my network but seems many people were facing loading and shutting down issues on and instagramdown facebookdown whatsappdown',\n",
       " 'zuckerberg under investigation sends off a warning shot yesterday about how the world would be without his platforms facebookdown instagramdown power',\n",
       " 'yesterday we had facebookdown instagramdown whatsappdown interesting to see from our survey that no one chose a return to traditional print ads what alternatives are there for your business if socialmedia was no more thursdaythoughts',\n",
       " 'hope everyone enjoyed instagramdown facebookdown yesterday as much as i did dmrequests imdeadaf',\n",
       " 'hcm systems are critical for taking care of you people make sure you have the right one in place facebookdown instagramdown whatsappdown gmaildown',\n",
       " 'with facebook and instagram down for so long i begin to wonder if they had information that would have led to the arrest of hillary clinton facebookblackout facebookdown instagramdown',\n",
       " 'down facebookdown cartoon comics humor umorismo satira fumetti vignette marzo instagramdown whatsappdown',\n",
       " 'i ll take one in medium facebookdown instagramdown socialmedia survivor',\n",
       " 'you will always remember where you were when facebook and instagram went down for a couple hours facebookdown instagramdown instagramblackout theendisnear',\n",
       " 'need a great book to read the fake date a date that left her fighting for her life thriller suspense womensupportingwomen thursdaythoughts psychologicalthriller facebookdown instagramdown yorkshire scarborough lovesuspense',\n",
       " 'is down for anyone or is it just me instagram instagramblackout instagramshutdown instagramdown instagramisback facebookoutage facebook facebookblackout facebookup facebookcrash facebookandinstagram facebookdown',\n",
       " 'be honest who panicked with instagram and facebook down for several hours yesterday facebookdown instagramdown behonest',\n",
       " 'is the only place that s actually up wow facebookdown instagramdown whataday howsyours',\n",
       " 'when facebook and instagram went down for a day instagramdown facebookdown whatsappdown',\n",
       " 'the real reason for the outage yesterday the darpa lifelog crew on cleanup facebookdown instagramdown qanon qarmy wwg wga facebook s data deals are under criminal investigation',\n",
       " 'reading these tweets that twitter was banging yesterday has me like twitter is my go to app teamtwitter facebookdown instagramdown',\n",
       " 'when life so dope you didn t know that instagramdown facebookdown was even happenin cause you were too busy being social n enjoyin life in real time',\n",
       " 'facebookdown and instagramdown was the national emergency that was probably facebook instagram users trying to see if the problem was their wifi',\n",
       " 'instagramdown facebookdown and everyone s talking about not being so dependant on these things but let s be real most of y all still ended up either here on twitter or on whatsapp or imessage it s not like y all put your phones down went outside and smelled the roses',\n",
       " 'must watch since facebooks down instagramdown technology thursdaythoughts cheat facebookdown facebook facebookisdown facebookdown ddos',\n",
       " 'so instagram and facebook went down yesterday to prepare for the new avengersendgame trailer that explains it instagramdown facebookdown',\n",
       " 'just checking to see whether facebook instagram are still down make it a great thursday both on and off of social media facebookdown instagramdown thursdaythoughts',\n",
       " 'literally everyone when facebookdown and instagramdown happened',\n",
       " 'pastors everywhere realizing facebookdown and instagramdown will be added to their sunday sermons as a perfect illustration on idolatry',\n",
       " 'is anyone else s still being slow and not letting them message or post instagramdown facebookdown',\n",
       " 'instagramdown facebookdown but thank god twitter dey',\n",
       " 'mercury retrograde victims facebook instagram oops facebookdown instagramdown psychicmediumapril intuitiveapril psychichousewife paranormalinvestigation psychicmedium',\n",
       " 'the internet is back but you can still subscribe to instagramdown facebookdown craftbeer beerblog',\n",
       " 'savior an amazing message for jammu kashmir the savior of humanity has descended to earth do you know about him if not then read gyan ganga if you want to get it free then write your name address and mobile number in comment box facebookdown instagramdown whatsappdown',\n",
       " 'facebook and instagram are down guess we ll have to enjoy the outdoors then facebookdown instagramdown outdoorsup ig',\n",
       " 'did you feel the pain endoftheworld instagramdown whatsappdown facebookdown',\n",
       " 'rumour has it if your social media was down yesterday you re actually ugly idk probably just a rumour facebookdown instagramdown',\n",
       " 'facebookdown instagramdown now that i have your attention this is what y all fuckers get for using facebook and instagram',\n",
       " 'facebook has denied that their extensive downtime was due to a ddos attack but we re no closer to understanding the cause of the problems facebookdown facebookoutage instagramdown instagramblackout',\n",
       " 'whatsappdown facebookdown instagramdown but twitter aman',\n",
       " 'this made my day facebook instagram facebookdown instagramdown myspace goodoldtom old timey casting',\n",
       " 'manggggg my ol lady was actin like an crack addict when insta was down instagram instagramdown facebookdown',\n",
       " 'how the crew reacted to yesterday s dual platform blackout facebookdown instagramdown socialmedia',\n",
       " 'when you realise you and your friend don t have any issues on facebook and instagram facebookdown instagramdown',\n",
       " 'quote of the day instagram crashed this could be the millennial great depression a dust bowl for influencers facebookdown facebookoutage instagramdown',\n",
       " 'happy post humpday tried to post this yesterday but with facebookdown instagramdown i thought i was hacked i panicked tried to change my passwords could not',\n",
       " 'now that instagram is working again i wanted to take a look at some updates and eye that s not it instagramdown facebookdown btsxsnl bts twt',\n",
       " 'twitter is hilarious with all the facebookdown instagramdown memes i am loving it',\n",
       " 'it is working much better than facebook and instagram facebookdown instagramdown',\n",
       " 'if the ig and fb glitch taught you anything i hope it was that you should have more than one means of communication with your audience a website is a must igblackout facebookdown instagramdown instagramblackout socialmediacraze thursdaythoughts',\n",
       " 'i think yesterday a lot of people suddenly remembered they had a twitter account facebookdown instagramdown',\n",
       " 'breaking instagram facebook after hours of maintenance is back again long time inaccessibility for the users in social media history twitter connecting the global community facebookdown facebook facebookoutage instagramdown instagram instagramnotworking',\n",
       " 'i did some serious podcasting yesterday what did you do while instagramdown and facebookdown',\n",
       " 'well this tweet blew up instagramdown facebookdown',\n",
       " 'need a great book to read the fake date a date that left her fighting for her life thriller suspense womensupportingwomen thursdaythoughts psychologicalthriller facebookdown instagramdown yorkshire scarborough lovesuspense',\n",
       " 'how did facebookdown and instagramdown yesterday affect you i m chatting with other industry pros about social media do s and don ts on the blog today',\n",
       " 'before the facebookdown and instagramdown outage yesterday we hosted a st patrick s day facebook live video with chef dino he made some truly delicious corned beef sliders with corned beef you can get the full recipe here',\n",
       " 'instagram and facebook are down so twitter has become the new sharing platform for toronto wood design projects recent coasters that will be demolded tonight facebookdown instagramdown woodworking resin',\n",
       " 'when facebookdown instagramdown',\n",
       " 'first instagramdown facebookdown',\n",
       " 'while facebookdown instagramdown nyc get out there and ride',\n",
       " 'free time without social media how people responded to facebook and instagram being down trending facebookdown instagramdown',\n",
       " 'i wish you all had cared about the election as much as you care about instagramdown facebookdown',\n",
       " 'just like the old song says facebookdown instagramdown',\n",
       " 'which shutdown put more ppl out of work govt shutdown govt workers or instagram fb shutdown scammers ig hoes influencers facebookdown instagramdown',\n",
       " 'we survived instagramdown facebookdown',\n",
       " 'checkout this coversong souhilabenlachhab algeria facebookdown instagramdown suzano facebook btsxsnl sweartogod meb felsefeciata weareerdogan instagram',\n",
       " 'how twitter is feeling rn after instagramdown facebookdown',\n",
       " 'this pretty much sums up my day yesterday you didn t miss much facebook facebookdown instagram instagramdown',\n",
       " 'checkout this coversong souhilabenlachhab algeria facebookdown instagramdown suzano facebook btsxsnl sweartogod meb felsefeciata weareerdogan instagram',\n",
       " 'we announce our new location and then hours later we have facebookdown instagramdown justsaying']"
      ]
     },
     "execution_count": 185,
     "metadata": {},
     "output_type": "execute_result"
    }
   ],
   "source": [
    "from nltk.tokenize import WordPunctTokenizer\n",
    "tok = WordPunctTokenizer()\n",
    "\n",
    "def tweet_cleaner(text):\n",
    "    soup = BeautifulSoup(text, 'lxml')\n",
    "    souped = soup.get_text()\n",
    "    stripped = re.sub(pattern, '', souped)\n",
    "    letters_only = re.sub(\"[^a-z]\", \" \", stripped)\n",
    "    # During the letters_only process two lines above, it has created unnecessay white spaces,\n",
    "    # I will tokenize and join together to remove unneccessary white spaces\n",
    "    words = tok.tokenize(letters_only)\n",
    "    return (\" \".join(words)).strip()\n",
    "\n",
    "testing = tweets['tweet_text'].iloc[:100]\n",
    "test_result = []\n",
    "for t in testing:\n",
    "    test_result.append(tweet_cleaner(t))\n",
    "test_result"
   ]
  },
  {
   "cell_type": "code",
   "execution_count": 186,
   "metadata": {},
   "outputs": [],
   "source": [
    "nums = [0,217285,434571]"
   ]
  },
  {
   "cell_type": "code",
   "execution_count": 187,
   "metadata": {
    "scrolled": true
   },
   "outputs": [
    {
     "name": "stdout",
     "output_type": "stream",
     "text": [
      "Cleaning and parsing the tweets...\n",
      "\n",
      "Tweets 10000 of 217285 has been processed\n",
      "Tweets 20000 of 217285 has been processed\n",
      "Tweets 30000 of 217285 has been processed\n",
      "Tweets 40000 of 217285 has been processed\n",
      "Tweets 50000 of 217285 has been processed\n",
      "Tweets 60000 of 217285 has been processed\n",
      "Tweets 70000 of 217285 has been processed\n",
      "Tweets 80000 of 217285 has been processed\n",
      "Tweets 90000 of 217285 has been processed\n",
      "Tweets 100000 of 217285 has been processed\n",
      "Tweets 110000 of 217285 has been processed\n",
      "Tweets 120000 of 217285 has been processed\n",
      "Tweets 130000 of 217285 has been processed\n",
      "Tweets 140000 of 217285 has been processed\n",
      "Tweets 150000 of 217285 has been processed\n",
      "Tweets 160000 of 217285 has been processed\n",
      "Tweets 170000 of 217285 has been processed\n",
      "Tweets 180000 of 217285 has been processed\n",
      "Tweets 190000 of 217285 has been processed\n",
      "Tweets 200000 of 217285 has been processed\n",
      "Tweets 210000 of 217285 has been processed\n",
      "Wall time: 1min 2s\n"
     ]
    }
   ],
   "source": [
    "%%time\n",
    "print(\"Cleaning and parsing the tweets...\\n\")\n",
    "clean_tweets = []\n",
    "for i in range(nums[0],nums[1]):\n",
    "    if( (i+1)%10000 == 0 ):\n",
    "        print(\"Tweets %d of %d has been processed\" % ( i+1, nums[1] ))                                                                   \n",
    "    clean_tweets.append(tweet_cleaner(tweets['tweet_text'].iloc[i]))"
   ]
  },
  {
   "cell_type": "code",
   "execution_count": 188,
   "metadata": {},
   "outputs": [
    {
     "data": {
      "text/plain": [
       "217285"
      ]
     },
     "execution_count": 188,
     "metadata": {},
     "output_type": "execute_result"
    }
   ],
   "source": [
    "len(clean_tweets)"
   ]
  },
  {
   "cell_type": "code",
   "execution_count": 189,
   "metadata": {
    "scrolled": true
   },
   "outputs": [
    {
     "name": "stdout",
     "output_type": "stream",
     "text": [
      "Cleaning and parsing the tweets...\n",
      "\n",
      "Tweets 220000 of 434571 has been processed\n",
      "Tweets 230000 of 434571 has been processed\n",
      "Tweets 240000 of 434571 has been processed\n",
      "Tweets 250000 of 434571 has been processed\n",
      "Tweets 260000 of 434571 has been processed\n",
      "Tweets 270000 of 434571 has been processed\n",
      "Tweets 280000 of 434571 has been processed\n",
      "Tweets 290000 of 434571 has been processed\n",
      "Tweets 300000 of 434571 has been processed\n",
      "Tweets 310000 of 434571 has been processed\n",
      "Tweets 320000 of 434571 has been processed\n",
      "Tweets 330000 of 434571 has been processed\n",
      "Tweets 340000 of 434571 has been processed\n",
      "Tweets 350000 of 434571 has been processed\n",
      "Tweets 360000 of 434571 has been processed\n",
      "Tweets 370000 of 434571 has been processed\n",
      "Tweets 380000 of 434571 has been processed\n",
      "Tweets 390000 of 434571 has been processed\n",
      "Tweets 400000 of 434571 has been processed\n",
      "Tweets 410000 of 434571 has been processed\n",
      "Tweets 420000 of 434571 has been processed\n",
      "Tweets 430000 of 434571 has been processed\n",
      "Wall time: 1min 5s\n"
     ]
    }
   ],
   "source": [
    "%%time\n",
    "print(\"Cleaning and parsing the tweets...\\n\")\n",
    "for i in range(nums[1],nums[2]):\n",
    "    if( (i+1)%10000 == 0 ):\n",
    "        print(\"Tweets %d of %d has been processed\" % ( i+1, nums[2] ))                                                                    \n",
    "    clean_tweets.append(tweet_cleaner(tweets['tweet_text'].iloc[i]))"
   ]
  },
  {
   "cell_type": "code",
   "execution_count": 190,
   "metadata": {},
   "outputs": [
    {
     "data": {
      "text/plain": [
       "434571"
      ]
     },
     "execution_count": 190,
     "metadata": {},
     "output_type": "execute_result"
    }
   ],
   "source": [
    "len(clean_tweets)"
   ]
  },
  {
   "cell_type": "code",
   "execution_count": 191,
   "metadata": {
    "scrolled": true
   },
   "outputs": [
    {
     "data": {
      "text/html": [
       "<div>\n",
       "<style scoped>\n",
       "    .dataframe tbody tr th:only-of-type {\n",
       "        vertical-align: middle;\n",
       "    }\n",
       "\n",
       "    .dataframe tbody tr th {\n",
       "        vertical-align: top;\n",
       "    }\n",
       "\n",
       "    .dataframe thead th {\n",
       "        text-align: right;\n",
       "    }\n",
       "</style>\n",
       "<table border=\"1\" class=\"dataframe\">\n",
       "  <thead>\n",
       "    <tr style=\"text-align: right;\">\n",
       "      <th></th>\n",
       "      <th>tweet</th>\n",
       "      <th>timestamp</th>\n",
       "      <th>username</th>\n",
       "      <th>all_hashtags</th>\n",
       "    </tr>\n",
       "  </thead>\n",
       "  <tbody>\n",
       "    <tr>\n",
       "      <th>0</th>\n",
       "      <td>true true instagram instagramdown facebookdown</td>\n",
       "      <td>NaN</td>\n",
       "      <td>NaN</td>\n",
       "      <td>NaN</td>\n",
       "    </tr>\n",
       "    <tr>\n",
       "      <th>1</th>\n",
       "      <td>how to prepare yourself for social media outag...</td>\n",
       "      <td>2019-03-14 16:27:07</td>\n",
       "      <td>bklyn_hayshun</td>\n",
       "      <td>['Instagram', 'Instagramdown', 'Facebookdown']</td>\n",
       "    </tr>\n",
       "    <tr>\n",
       "      <th>2</th>\n",
       "      <td>when facebookdown facebookoutage instagramblac...</td>\n",
       "      <td>2019-03-14 16:26:46</td>\n",
       "      <td>Postfity</td>\n",
       "      <td>['facebookdown', 'instagramdown']</td>\n",
       "    </tr>\n",
       "    <tr>\n",
       "      <th>3</th>\n",
       "      <td>facebookdown and instagramdown make me contemp...</td>\n",
       "      <td>2019-03-14 16:25:41</td>\n",
       "      <td>NikeMC</td>\n",
       "      <td>['FacebookDown', 'facebookoutage', 'InstagramB...</td>\n",
       "    </tr>\n",
       "    <tr>\n",
       "      <th>4</th>\n",
       "      <td>facebook instagram and whatsapp hit by major o...</td>\n",
       "      <td>2019-03-14 16:24:50</td>\n",
       "      <td>ftchkn</td>\n",
       "      <td>['FacebookDown', 'instagramdown', 'crypto', 'b...</td>\n",
       "    </tr>\n",
       "  </tbody>\n",
       "</table>\n",
       "</div>"
      ],
      "text/plain": [
       "                                               tweet            timestamp  \\\n",
       "0     true true instagram instagramdown facebookdown                  NaN   \n",
       "1  how to prepare yourself for social media outag...  2019-03-14 16:27:07   \n",
       "2  when facebookdown facebookoutage instagramblac...  2019-03-14 16:26:46   \n",
       "3  facebookdown and instagramdown make me contemp...  2019-03-14 16:25:41   \n",
       "4  facebook instagram and whatsapp hit by major o...  2019-03-14 16:24:50   \n",
       "\n",
       "        username                                       all_hashtags  \n",
       "0            NaN                                                NaN  \n",
       "1  bklyn_hayshun     ['Instagram', 'Instagramdown', 'Facebookdown']  \n",
       "2       Postfity                  ['facebookdown', 'instagramdown']  \n",
       "3         NikeMC  ['FacebookDown', 'facebookoutage', 'InstagramB...  \n",
       "4         ftchkn  ['FacebookDown', 'instagramdown', 'crypto', 'b...  "
      ]
     },
     "execution_count": 191,
     "metadata": {},
     "output_type": "execute_result"
    }
   ],
   "source": [
    "clean_df = pd.DataFrame(clean_tweets,columns=['tweet'])\n",
    "clean_df['timestamp'] = df['timestamp']\n",
    "clean_df['username'] = tweets['username']\n",
    "clean_df['all_hashtags'] = tweets['all_hashtags']\n",
    "clean_df.head()"
   ]
  },
  {
   "cell_type": "code",
   "execution_count": 192,
   "metadata": {},
   "outputs": [
    {
     "data": {
      "text/html": [
       "<div>\n",
       "<style scoped>\n",
       "    .dataframe tbody tr th:only-of-type {\n",
       "        vertical-align: middle;\n",
       "    }\n",
       "\n",
       "    .dataframe tbody tr th {\n",
       "        vertical-align: top;\n",
       "    }\n",
       "\n",
       "    .dataframe thead th {\n",
       "        text-align: right;\n",
       "    }\n",
       "</style>\n",
       "<table border=\"1\" class=\"dataframe\">\n",
       "  <thead>\n",
       "    <tr style=\"text-align: right;\">\n",
       "      <th></th>\n",
       "      <th>tweet</th>\n",
       "      <th>timestamp</th>\n",
       "      <th>username</th>\n",
       "      <th>all_hashtags</th>\n",
       "    </tr>\n",
       "  </thead>\n",
       "  <tbody>\n",
       "    <tr>\n",
       "      <th>count</th>\n",
       "      <td>434571</td>\n",
       "      <td>434069</td>\n",
       "      <td>434069</td>\n",
       "      <td>434069</td>\n",
       "    </tr>\n",
       "    <tr>\n",
       "      <th>unique</th>\n",
       "      <td>1255</td>\n",
       "      <td>1288</td>\n",
       "      <td>1179</td>\n",
       "      <td>794</td>\n",
       "    </tr>\n",
       "    <tr>\n",
       "      <th>top</th>\n",
       "      <td>facebookdown and instagramdown so listen to my...</td>\n",
       "      <td>2019-03-14 14:34:19</td>\n",
       "      <td>BestPhotosFilms</td>\n",
       "      <td>['FacebookDown', 'instagramdown']</td>\n",
       "    </tr>\n",
       "    <tr>\n",
       "      <th>freq</th>\n",
       "      <td>1732</td>\n",
       "      <td>866</td>\n",
       "      <td>2596</td>\n",
       "      <td>36080</td>\n",
       "    </tr>\n",
       "  </tbody>\n",
       "</table>\n",
       "</div>"
      ],
      "text/plain": [
       "                                                    tweet  \\\n",
       "count                                              434571   \n",
       "unique                                               1255   \n",
       "top     facebookdown and instagramdown so listen to my...   \n",
       "freq                                                 1732   \n",
       "\n",
       "                  timestamp         username  \\\n",
       "count                434069           434069   \n",
       "unique                 1288             1179   \n",
       "top     2019-03-14 14:34:19  BestPhotosFilms   \n",
       "freq                    866             2596   \n",
       "\n",
       "                             all_hashtags  \n",
       "count                              434069  \n",
       "unique                                794  \n",
       "top     ['FacebookDown', 'instagramdown']  \n",
       "freq                                36080  "
      ]
     },
     "execution_count": 192,
     "metadata": {},
     "output_type": "execute_result"
    }
   ],
   "source": [
    "clean_df.describe()"
   ]
  },
  {
   "cell_type": "code",
   "execution_count": 203,
   "metadata": {},
   "outputs": [
    {
     "data": {
      "text/plain": [
       "BestPhotosFilms    2596\n",
       "ReadScoops         1724\n",
       "Stacktical         1679\n",
       "Addlanes           1569\n",
       "gdt_countries      1295\n",
       "Name: username, dtype: int64"
      ]
     },
     "execution_count": 203,
     "metadata": {},
     "output_type": "execute_result"
    }
   ],
   "source": [
    "clean_df['username'].value_counts().head()"
   ]
  }
 ],
 "metadata": {
  "kernelspec": {
   "display_name": "Python 3",
   "language": "python",
   "name": "python3"
  },
  "language_info": {
   "codemirror_mode": {
    "name": "ipython",
    "version": 3
   },
   "file_extension": ".py",
   "mimetype": "text/x-python",
   "name": "python",
   "nbconvert_exporter": "python",
   "pygments_lexer": "ipython3",
   "version": "3.7.0"
  }
 },
 "nbformat": 4,
 "nbformat_minor": 2
}
